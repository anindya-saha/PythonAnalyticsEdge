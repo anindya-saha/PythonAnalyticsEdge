{
 "metadata": {
  "name": ""
 },
 "nbformat": 3,
 "nbformat_minor": 0,
 "worksheets": [
  {
   "cells": [
    {
     "cell_type": "code",
     "collapsed": false,
     "input": [
      "from __future__ import (print_function, division) #unicode_literals"
     ],
     "language": "python",
     "metadata": {},
     "outputs": [],
     "prompt_number": 1
    },
    {
     "cell_type": "code",
     "collapsed": false,
     "input": [
      "import os\n",
      "import pandas as pd\n",
      "import statsmodels.api as sm\n",
      "import numpy as np\n",
      "import matplotlib.pyplot as plt\n",
      "%matplotlib inline"
     ],
     "language": "python",
     "metadata": {},
     "outputs": [],
     "prompt_number": 2
    },
    {
     "cell_type": "code",
     "collapsed": false,
     "input": [
      "os.chdir(os.path.expanduser('~/Documents/Projects/Mathematics/15.071x/Data'))"
     ],
     "language": "python",
     "metadata": {},
     "outputs": [],
     "prompt_number": 3
    },
    {
     "cell_type": "heading",
     "level": 2,
     "metadata": {},
     "source": [
      "Health experts"
     ]
    },
    {
     "cell_type": "code",
     "collapsed": false,
     "input": [
      "split = list(pd.read_csv(\"split.csv\").x)"
     ],
     "language": "python",
     "metadata": {},
     "outputs": [],
     "prompt_number": 4
    },
    {
     "cell_type": "code",
     "collapsed": false,
     "input": [
      "quality = pd.read_csv(\"quality.csv\")"
     ],
     "language": "python",
     "metadata": {},
     "outputs": [],
     "prompt_number": 5
    },
    {
     "cell_type": "code",
     "collapsed": false,
     "input": [
      "qualityTrain = quality[split]"
     ],
     "language": "python",
     "metadata": {},
     "outputs": [],
     "prompt_number": 6
    },
    {
     "cell_type": "code",
     "collapsed": false,
     "input": [
      "qualityTest = quality[map(lambda x: ~x, split)].reindex()"
     ],
     "language": "python",
     "metadata": {},
     "outputs": [],
     "prompt_number": 7
    },
    {
     "cell_type": "code",
     "collapsed": false,
     "input": [
      "len(qualityTrain)"
     ],
     "language": "python",
     "metadata": {},
     "outputs": [
      {
       "metadata": {},
       "output_type": "pyout",
       "prompt_number": 8,
       "text": [
        "99"
       ]
      }
     ],
     "prompt_number": 8
    },
    {
     "cell_type": "code",
     "collapsed": false,
     "input": [
      "len(qualityTest)"
     ],
     "language": "python",
     "metadata": {},
     "outputs": [
      {
       "metadata": {},
       "output_type": "pyout",
       "prompt_number": 9,
       "text": [
        "32"
       ]
      }
     ],
     "prompt_number": 9
    },
    {
     "cell_type": "code",
     "collapsed": false,
     "input": [
      "QualityLog = sm.Logit.from_formula('PoorCare ~ OfficeVisits + Narcotics', qualityTrain).fit()"
     ],
     "language": "python",
     "metadata": {},
     "outputs": [
      {
       "output_type": "stream",
       "stream": "stdout",
       "text": [
        "Optimization terminated successfully.\n",
        "         Current function value: 0.450134\n",
        "         Iterations 6\n"
       ]
      }
     ],
     "prompt_number": 10
    },
    {
     "cell_type": "code",
     "collapsed": false,
     "input": [
      "#Coefficients:\n",
      "#             Estimate Std. Error z value Pr(>|z|)    \n",
      "#(Intercept)  -2.64613    0.52357  -5.054 4.33e-07 ***\n",
      "#OfficeVisits  0.08212    0.03055   2.688  0.00718 ** \n",
      "#Narcotics     0.07630    0.03205   2.381  0.01728 *  \n",
      "\n",
      "QualityLog.summary()"
     ],
     "language": "python",
     "metadata": {},
     "outputs": [
      {
       "html": [
        "<table class=\"simpletable\">\n",
        "<caption>Logit Regression Results</caption>\n",
        "<tr>\n",
        "  <th>Dep. Variable:</th>     <td>PoorCare</td>     <th>  No. Observations:  </th>  <td>    99</td>  \n",
        "</tr>\n",
        "<tr>\n",
        "  <th>Model:</th>               <td>Logit</td>      <th>  Df Residuals:      </th>  <td>    96</td>  \n",
        "</tr>\n",
        "<tr>\n",
        "  <th>Method:</th>               <td>MLE</td>       <th>  Df Model:          </th>  <td>     2</td>  \n",
        "</tr>\n",
        "<tr>\n",
        "  <th>Date:</th>          <td>Wed, 19 Mar 2014</td> <th>  Pseudo R-squ.:     </th>  <td>0.2034</td>  \n",
        "</tr>\n",
        "<tr>\n",
        "  <th>Time:</th>              <td>17:13:59</td>     <th>  Log-Likelihood:    </th> <td> -44.563</td> \n",
        "</tr>\n",
        "<tr>\n",
        "  <th>converged:</th>           <td>True</td>       <th>  LL-Null:           </th> <td> -55.944</td> \n",
        "</tr>\n",
        "<tr>\n",
        "  <th> </th>                      <td> </td>        <th>  LLR p-value:       </th> <td>1.141e-05</td>\n",
        "</tr>\n",
        "</table>\n",
        "<table class=\"simpletable\">\n",
        "<tr>\n",
        "        <td></td>          <th>coef</th>     <th>std err</th>      <th>z</th>      <th>P>|z|</th> <th>[95.0% Conf. Int.]</th> \n",
        "</tr>\n",
        "<tr>\n",
        "  <th>Intercept</th>    <td>   -2.6461</td> <td>    0.524</td> <td>   -5.054</td> <td> 0.000</td> <td>   -3.672    -1.620</td>\n",
        "</tr>\n",
        "<tr>\n",
        "  <th>OfficeVisits</th> <td>    0.0821</td> <td>    0.031</td> <td>    2.688</td> <td> 0.007</td> <td>    0.022     0.142</td>\n",
        "</tr>\n",
        "<tr>\n",
        "  <th>Narcotics</th>    <td>    0.0763</td> <td>    0.032</td> <td>    2.381</td> <td> 0.017</td> <td>    0.013     0.139</td>\n",
        "</tr>\n",
        "</table>"
       ],
       "metadata": {},
       "output_type": "pyout",
       "prompt_number": 11,
       "text": [
        "<class 'statsmodels.iolib.summary.Summary'>\n",
        "\"\"\"\n",
        "                           Logit Regression Results                           \n",
        "==============================================================================\n",
        "Dep. Variable:               PoorCare   No. Observations:                   99\n",
        "Model:                          Logit   Df Residuals:                       96\n",
        "Method:                           MLE   Df Model:                            2\n",
        "Date:                Wed, 19 Mar 2014   Pseudo R-squ.:                  0.2034\n",
        "Time:                        17:13:59   Log-Likelihood:                -44.563\n",
        "converged:                       True   LL-Null:                       -55.944\n",
        "                                        LLR p-value:                 1.141e-05\n",
        "================================================================================\n",
        "                   coef    std err          z      P>|z|      [95.0% Conf. Int.]\n",
        "--------------------------------------------------------------------------------\n",
        "Intercept       -2.6461      0.524     -5.054      0.000        -3.672    -1.620\n",
        "OfficeVisits     0.0821      0.031      2.688      0.007         0.022     0.142\n",
        "Narcotics        0.0763      0.032      2.381      0.017         0.013     0.139\n",
        "================================================================================\n",
        "\"\"\""
       ]
      }
     ],
     "prompt_number": 11
    },
    {
     "cell_type": "code",
     "collapsed": false,
     "input": [
      "#Deviance Residuals: \n",
      "#     Min        1Q    Median        3Q       Max  \n",
      "#-2.06303  -0.63155  -0.50503  -0.09689   2.16686  \n",
      "\n",
      "{QualityLog.resid_dev.min(), QualityLog.resid_dev.median(), QualityLog.resid_dev.max()}"
     ],
     "language": "python",
     "metadata": {},
     "outputs": [
      {
       "metadata": {},
       "output_type": "pyout",
       "prompt_number": 12,
       "text": [
        "{-2.0630304504509911, -0.5050321500519812, 2.1668573951738375}"
       ]
      }
     ],
     "prompt_number": 12
    },
    {
     "cell_type": "code",
     "collapsed": false,
     "input": [
      "#AIC: 95.127\n",
      "\n",
      "QualityLog.aic"
     ],
     "language": "python",
     "metadata": {},
     "outputs": [
      {
       "metadata": {},
       "output_type": "pyout",
       "prompt_number": 13,
       "text": [
        "95.126558640981841"
       ]
      }
     ],
     "prompt_number": 13
    },
    {
     "cell_type": "code",
     "collapsed": false,
     "input": [
      "#   Min. 1st Qu.  Median    Mean 3rd Qu.    Max. \n",
      "#0.06623 0.11910 0.15970 0.25250 0.26760 0.98460 \n",
      "\n",
      "pred1 = QualityLog.predict(qualityTrain)"
     ],
     "language": "python",
     "metadata": {},
     "outputs": [],
     "prompt_number": 14
    },
    {
     "cell_type": "code",
     "collapsed": false,
     "input": [
      "{pred1.min(), pred1.mean(), pred1.max()}"
     ],
     "language": "python",
     "metadata": {},
     "outputs": [
      {
       "metadata": {},
       "output_type": "pyout",
       "prompt_number": 15,
       "text": [
        "{0.066227725036549709, 0.25252525252525249, 0.98456013289057787}"
       ]
      }
     ],
     "prompt_number": 15
    },
    {
     "cell_type": "code",
     "collapsed": false,
     "input": [
      "qualityTrain['Pred1'] = pred1"
     ],
     "language": "python",
     "metadata": {},
     "outputs": [],
     "prompt_number": 16
    },
    {
     "cell_type": "code",
     "collapsed": false,
     "input": [
      "#        0         1 \n",
      "#0.1894512 0.4392246 \n",
      "\n",
      "qualityTrain.groupby('PoorCare').mean().Pred1"
     ],
     "language": "python",
     "metadata": {},
     "outputs": [
      {
       "metadata": {},
       "output_type": "pyout",
       "prompt_number": 17,
       "text": [
        "PoorCare\n",
        "0           0.189451\n",
        "1           0.439225\n",
        "Name: Pred1, dtype: float64"
       ]
      }
     ],
     "prompt_number": 17
    },
    {
     "cell_type": "code",
     "collapsed": false,
     "input": [
      "# pred_table[i,j] refers to the number of times \u201ci\u201d was observed and the model predicted \u201cj\u201d.\n",
      "# Correct predictions are along the diagonal.\n",
      "\n",
      "def conf_info(t=0.5):\n",
      "    conf = QualityLog.pred_table(t); print(conf)\n",
      "    print('Specifiity  {0}'.format(conf[0,0]/sum(conf[0])))\n",
      "    print('Sensitivity {0}'.format(conf[1,1]/sum(conf[1])))"
     ],
     "language": "python",
     "metadata": {},
     "outputs": [],
     "prompt_number": 18
    },
    {
     "cell_type": "code",
     "collapsed": false,
     "input": [
      "conf_info()"
     ],
     "language": "python",
     "metadata": {},
     "outputs": [
      {
       "output_type": "stream",
       "stream": "stdout",
       "text": [
        "[[ 70.   4.]\n",
        " [ 15.  10.]]\n",
        "Specifiity  0.945945945946\n",
        "Sensitivity 0.4\n"
       ]
      }
     ],
     "prompt_number": 19
    },
    {
     "cell_type": "code",
     "collapsed": false,
     "input": [
      "conf_info(0.7)"
     ],
     "language": "python",
     "metadata": {},
     "outputs": [
      {
       "output_type": "stream",
       "stream": "stdout",
       "text": [
        "[[ 73.   1.]\n",
        " [ 17.   8.]]\n",
        "Specifiity  0.986486486486\n",
        "Sensitivity 0.32\n"
       ]
      }
     ],
     "prompt_number": 20
    },
    {
     "cell_type": "code",
     "collapsed": false,
     "input": [
      "conf_info(0.2)"
     ],
     "language": "python",
     "metadata": {},
     "outputs": [
      {
       "output_type": "stream",
       "stream": "stdout",
       "text": [
        "[[ 54.  20.]\n",
        " [  9.  16.]]\n",
        "Specifiity  0.72972972973\n",
        "Sensitivity 0.64\n"
       ]
      }
     ],
     "prompt_number": 21
    },
    {
     "cell_type": "code",
     "collapsed": false,
     "input": [
      "from sklearn.metrics import roc_curve, auc"
     ],
     "language": "python",
     "metadata": {},
     "outputs": [],
     "prompt_number": 25
    },
    {
     "cell_type": "code",
     "collapsed": false,
     "input": [
      "fpr, tpr, thresholds = roc_curve(qualityTrain.PoorCare, qualityTrain.Pred1)"
     ],
     "language": "python",
     "metadata": {},
     "outputs": [],
     "prompt_number": 26
    },
    {
     "cell_type": "code",
     "collapsed": false,
     "input": [
      "# TBD - How to colorize and label thresholds?\n",
      "\n",
      "plt.plot(fpr, tpr, label='ROC curve', color='b')\n",
      "plt.axes().set_aspect('equal')\n",
      "#plt.plot([0, 1], [0, 1], 'b--')\n",
      "plt.xlim([-0.05, 1.05])\n",
      "plt.ylim([-0.05, 1.05])\n",
      "#plt.xlabel('FP')\n",
      "#plt.ylabel('TP')\n",
      "#plt.title('ROC')\n",
      "#plt.legend(loc=\"lower right\")\n",
      "plt.savefig('Foo.pdf')"
     ],
     "language": "python",
     "metadata": {},
     "outputs": [
      {
       "metadata": {},
       "output_type": "display_data",
       "png": "[encoded data removed]",
       "text": [
        "<matplotlib.figure.Figure at 0x10e4f9c50>"
       ]
      }
     ],
     "prompt_number": 32
    },
    {
     "cell_type": "code",
     "collapsed": false,
     "input": [
      "#0.7994792\n",
      "\n",
      "fpr, tpr, thresholds = roc_curve(qualityTest.PoorCare, QualityLog.predict(qualityTest))\n",
      "auc(fpr, tpr)"
     ],
     "language": "python",
     "metadata": {},
     "outputs": [
      {
       "metadata": {},
       "output_type": "pyout",
       "prompt_number": 38,
       "text": [
        "0.79947916666666663"
       ]
      }
     ],
     "prompt_number": 38
    }
   ],
   "metadata": {}
  }
 ]
}