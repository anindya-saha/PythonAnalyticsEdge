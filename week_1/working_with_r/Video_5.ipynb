{
 "metadata": {
  "name": ""
 },
 "nbformat": 3,
 "nbformat_minor": 0,
 "worksheets": [
  {
   "cells": [
    {
     "cell_type": "code",
     "collapsed": false,
     "input": [
      "import pandas as pd\n",
      "import matplotlib.pyplot as plt\n",
      "%matplotlib inline"
     ],
     "language": "python",
     "metadata": {},
     "outputs": [],
     "prompt_number": 12
    },
    {
     "cell_type": "code",
     "collapsed": false,
     "input": [
      "df = pd.read_csv(\"data/WHO.csv\")"
     ],
     "language": "python",
     "metadata": {},
     "outputs": [],
     "prompt_number": 2
    },
    {
     "cell_type": "markdown",
     "metadata": {},
     "source": [
      "Looking for \"Under15\" column data"
     ]
    },
    {
     "cell_type": "code",
     "collapsed": false,
     "input": [
      "df.Under15"
     ],
     "language": "python",
     "metadata": {},
     "outputs": [
      {
       "metadata": {},
       "output_type": "pyout",
       "prompt_number": 3,
       "text": [
        "0     47.42\n",
        "1     21.33\n",
        "2     27.42\n",
        "3     15.20\n",
        "4     47.58\n",
        "5     25.96\n",
        "6     24.42\n",
        "7     20.34\n",
        "8     18.95\n",
        "9     14.51\n",
        "10    22.25\n",
        "11    21.62\n",
        "12    20.16\n",
        "13    30.57\n",
        "14    18.99\n",
        "...\n",
        "179    30.61\n",
        "180    48.54\n",
        "181    14.18\n",
        "182    14.41\n",
        "183    17.54\n",
        "184    44.85\n",
        "185    19.63\n",
        "186    22.05\n",
        "187    28.90\n",
        "188    37.37\n",
        "189    28.84\n",
        "190    22.87\n",
        "191    40.72\n",
        "192    46.73\n",
        "193    40.24\n",
        "Name: Under15, Length: 194, dtype: float64"
       ]
      }
     ],
     "prompt_number": 3
    },
    {
     "cell_type": "markdown",
     "metadata": {},
     "source": [
      "Or we can also do the following"
     ]
    },
    {
     "cell_type": "code",
     "collapsed": false,
     "input": [
      "df[\"Under15\"]"
     ],
     "language": "python",
     "metadata": {},
     "outputs": [
      {
       "metadata": {},
       "output_type": "pyout",
       "prompt_number": 4,
       "text": [
        "0     47.42\n",
        "1     21.33\n",
        "2     27.42\n",
        "3     15.20\n",
        "4     47.58\n",
        "5     25.96\n",
        "6     24.42\n",
        "7     20.34\n",
        "8     18.95\n",
        "9     14.51\n",
        "10    22.25\n",
        "11    21.62\n",
        "12    20.16\n",
        "13    30.57\n",
        "14    18.99\n",
        "...\n",
        "179    30.61\n",
        "180    48.54\n",
        "181    14.18\n",
        "182    14.41\n",
        "183    17.54\n",
        "184    44.85\n",
        "185    19.63\n",
        "186    22.05\n",
        "187    28.90\n",
        "188    37.37\n",
        "189    28.84\n",
        "190    22.87\n",
        "191    40.72\n",
        "192    46.73\n",
        "193    40.24\n",
        "Name: Under15, Length: 194, dtype: float64"
       ]
      }
     ],
     "prompt_number": 4
    },
    {
     "cell_type": "markdown",
     "metadata": {},
     "source": [
      "Mean of \"Under15\""
     ]
    },
    {
     "cell_type": "code",
     "collapsed": false,
     "input": [
      "df.Under15.mean()"
     ],
     "language": "python",
     "metadata": {},
     "outputs": [
      {
       "metadata": {},
       "output_type": "pyout",
       "prompt_number": 5,
       "text": [
        "28.732422680412363"
       ]
      }
     ],
     "prompt_number": 5
    },
    {
     "cell_type": "code",
     "collapsed": false,
     "input": [
      "df.Under15.std()"
     ],
     "language": "python",
     "metadata": {},
     "outputs": [
      {
       "metadata": {},
       "output_type": "pyout",
       "prompt_number": 6,
       "text": [
        "10.534573319923823"
       ]
      }
     ],
     "prompt_number": 6
    },
    {
     "cell_type": "code",
     "collapsed": false,
     "input": [
      "df.Under15.describe()"
     ],
     "language": "python",
     "metadata": {},
     "outputs": [
      {
       "metadata": {},
       "output_type": "pyout",
       "prompt_number": 7,
       "text": [
        "count    194.000000\n",
        "mean      28.732423\n",
        "std       10.534573\n",
        "min       13.120000\n",
        "25%       18.717500\n",
        "50%       28.650000\n",
        "75%       37.752500\n",
        "max       49.990000\n",
        "Name: Under15, dtype: float64"
       ]
      }
     ],
     "prompt_number": 7
    },
    {
     "cell_type": "code",
     "collapsed": false,
     "input": [
      "df.Under15.argmin()"
     ],
     "language": "python",
     "metadata": {},
     "outputs": [
      {
       "metadata": {},
       "output_type": "pyout",
       "prompt_number": 8,
       "text": [
        "85"
       ]
      }
     ],
     "prompt_number": 8
    },
    {
     "cell_type": "code",
     "collapsed": false,
     "input": [
      "df.Under15[df.Under15.argmin()]"
     ],
     "language": "python",
     "metadata": {},
     "outputs": [
      {
       "metadata": {},
       "output_type": "pyout",
       "prompt_number": 10,
       "text": [
        "13.119999999999999"
       ]
      }
     ],
     "prompt_number": 10
    },
    {
     "cell_type": "code",
     "collapsed": false,
     "input": [
      "df.Country[df.Under15.argmin()]"
     ],
     "language": "python",
     "metadata": {},
     "outputs": [
      {
       "metadata": {},
       "output_type": "pyout",
       "prompt_number": 11,
       "text": [
        "'Japan'"
       ]
      }
     ],
     "prompt_number": 11
    },
    {
     "cell_type": "code",
     "collapsed": false,
     "input": [
      "df.plot(kind=\"scatter\",y=\"FertilityRate\",x=\"GNI\")"
     ],
     "language": "python",
     "metadata": {},
     "outputs": [
      {
       "metadata": {},
       "output_type": "pyout",
       "prompt_number": 16,
       "text": [
        "<matplotlib.axes.AxesSubplot at 0x5985e90>"
       ]
      },
      {
       "metadata": {},
       "output_type": "display_data",
       "png": "[encoded data removed]",
       "text": [
        "<matplotlib.figure.Figure at 0x597a290>"
       ]
      }
     ],
     "prompt_number": 16
    },
    {
     "cell_type": "code",
     "collapsed": false,
     "input": [
      "df[(df.GNI>10000)&(df.FertilityRate>2.5)]"
     ],
     "language": "python",
     "metadata": {},
     "outputs": [
      {
       "html": [
        "<div style=\"max-height:1000px;max-width:1500px;overflow:auto;\">\n",
        "<table border=\"1\" class=\"dataframe\">\n",
        "  <thead>\n",
        "    <tr style=\"text-align: right;\">\n",
        "      <th></th>\n",
        "      <th>Country</th>\n",
        "      <th>Region</th>\n",
        "      <th>Population</th>\n",
        "      <th>Under15</th>\n",
        "      <th>Over60</th>\n",
        "      <th>FertilityRate</th>\n",
        "      <th>LifeExpectancy</th>\n",
        "      <th>ChildMortality</th>\n",
        "      <th>CellularSubscribers</th>\n",
        "      <th>LiteracyRate</th>\n",
        "      <th>GNI</th>\n",
        "      <th>PrimarySchoolEnrollmentMale</th>\n",
        "      <th>PrimarySchoolEnrollmentFemale</th>\n",
        "    </tr>\n",
        "  </thead>\n",
        "  <tbody>\n",
        "    <tr>\n",
        "      <th>22 </th>\n",
        "      <td>          Botswana</td>\n",
        "      <td>                Africa</td>\n",
        "      <td>  2004</td>\n",
        "      <td> 33.75</td>\n",
        "      <td>  5.63</td>\n",
        "      <td> 2.71</td>\n",
        "      <td> 66</td>\n",
        "      <td>  53.3</td>\n",
        "      <td> 142.82</td>\n",
        "      <td> 84.5</td>\n",
        "      <td> 14550</td>\n",
        "      <td>  NaN</td>\n",
        "      <td>  NaN</td>\n",
        "    </tr>\n",
        "    <tr>\n",
        "      <th>55 </th>\n",
        "      <td> Equatorial Guinea</td>\n",
        "      <td>                Africa</td>\n",
        "      <td>   736</td>\n",
        "      <td> 38.95</td>\n",
        "      <td>  4.53</td>\n",
        "      <td> 5.04</td>\n",
        "      <td> 54</td>\n",
        "      <td> 100.3</td>\n",
        "      <td>  59.15</td>\n",
        "      <td> 93.9</td>\n",
        "      <td> 25620</td>\n",
        "      <td> 56.5</td>\n",
        "      <td> 56.0</td>\n",
        "    </tr>\n",
        "    <tr>\n",
        "      <th>62 </th>\n",
        "      <td>             Gabon</td>\n",
        "      <td>                Africa</td>\n",
        "      <td>  1633</td>\n",
        "      <td> 38.49</td>\n",
        "      <td>  7.38</td>\n",
        "      <td> 4.18</td>\n",
        "      <td> 62</td>\n",
        "      <td>  62.0</td>\n",
        "      <td> 117.32</td>\n",
        "      <td> 88.4</td>\n",
        "      <td> 13740</td>\n",
        "      <td>  NaN</td>\n",
        "      <td>  NaN</td>\n",
        "    </tr>\n",
        "    <tr>\n",
        "      <th>82 </th>\n",
        "      <td>            Israel</td>\n",
        "      <td>                Europe</td>\n",
        "      <td>  7644</td>\n",
        "      <td> 27.53</td>\n",
        "      <td> 15.15</td>\n",
        "      <td> 2.92</td>\n",
        "      <td> 82</td>\n",
        "      <td>   4.2</td>\n",
        "      <td> 121.66</td>\n",
        "      <td>  NaN</td>\n",
        "      <td> 27110</td>\n",
        "      <td> 97.0</td>\n",
        "      <td> 97.8</td>\n",
        "    </tr>\n",
        "    <tr>\n",
        "      <th>87 </th>\n",
        "      <td>        Kazakhstan</td>\n",
        "      <td>                Europe</td>\n",
        "      <td> 16271</td>\n",
        "      <td> 25.46</td>\n",
        "      <td> 10.04</td>\n",
        "      <td> 2.52</td>\n",
        "      <td> 67</td>\n",
        "      <td>  18.7</td>\n",
        "      <td> 155.74</td>\n",
        "      <td> 99.7</td>\n",
        "      <td> 11250</td>\n",
        "      <td>  NaN</td>\n",
        "      <td>  NaN</td>\n",
        "    </tr>\n",
        "    <tr>\n",
        "      <th>130</th>\n",
        "      <td>            Panama</td>\n",
        "      <td>              Americas</td>\n",
        "      <td>  3802</td>\n",
        "      <td> 28.65</td>\n",
        "      <td> 10.13</td>\n",
        "      <td> 2.52</td>\n",
        "      <td> 77</td>\n",
        "      <td>  18.5</td>\n",
        "      <td> 188.60</td>\n",
        "      <td> 94.1</td>\n",
        "      <td> 14510</td>\n",
        "      <td> 99.1</td>\n",
        "      <td> 98.2</td>\n",
        "    </tr>\n",
        "    <tr>\n",
        "      <th>149</th>\n",
        "      <td>      Saudi Arabia</td>\n",
        "      <td> Eastern Mediterranean</td>\n",
        "      <td> 28288</td>\n",
        "      <td> 29.69</td>\n",
        "      <td>  4.59</td>\n",
        "      <td> 2.76</td>\n",
        "      <td> 76</td>\n",
        "      <td>   8.6</td>\n",
        "      <td> 191.24</td>\n",
        "      <td> 86.6</td>\n",
        "      <td> 24700</td>\n",
        "      <td> 96.7</td>\n",
        "      <td> 96.5</td>\n",
        "    </tr>\n",
        "  </tbody>\n",
        "</table>\n",
        "<p>7 rows \u00d7 13 columns</p>\n",
        "</div>"
       ],
       "metadata": {},
       "output_type": "pyout",
       "prompt_number": 17,
       "text": [
        "               Country                 Region  Population  Under15  Over60  \\\n",
        "22            Botswana                 Africa        2004    33.75    5.63   \n",
        "55   Equatorial Guinea                 Africa         736    38.95    4.53   \n",
        "62               Gabon                 Africa        1633    38.49    7.38   \n",
        "82              Israel                 Europe        7644    27.53   15.15   \n",
        "87          Kazakhstan                 Europe       16271    25.46   10.04   \n",
        "130             Panama               Americas        3802    28.65   10.13   \n",
        "149       Saudi Arabia  Eastern Mediterranean       28288    29.69    4.59   \n",
        "\n",
        "     FertilityRate  LifeExpectancy  ChildMortality  CellularSubscribers  \\\n",
        "22            2.71              66            53.3               142.82   \n",
        "55            5.04              54           100.3                59.15   \n",
        "62            4.18              62            62.0               117.32   \n",
        "82            2.92              82             4.2               121.66   \n",
        "87            2.52              67            18.7               155.74   \n",
        "130           2.52              77            18.5               188.60   \n",
        "149           2.76              76             8.6               191.24   \n",
        "\n",
        "     LiteracyRate    GNI  PrimarySchoolEnrollmentMale  \\\n",
        "22           84.5  14550                          NaN   \n",
        "55           93.9  25620                         56.5   \n",
        "62           88.4  13740                          NaN   \n",
        "82            NaN  27110                         97.0   \n",
        "87           99.7  11250                          NaN   \n",
        "130          94.1  14510                         99.1   \n",
        "149          86.6  24700                         96.7   \n",
        "\n",
        "     PrimarySchoolEnrollmentFemale  \n",
        "22                             NaN  \n",
        "55                            56.0  \n",
        "62                             NaN  \n",
        "82                            97.8  \n",
        "87                             NaN  \n",
        "130                           98.2  \n",
        "149                           96.5  \n",
        "\n",
        "[7 rows x 13 columns]"
       ]
      }
     ],
     "prompt_number": 17
    },
    {
     "cell_type": "code",
     "collapsed": false,
     "input": [
      "df[(df.GNI>10000)&(df.FertilityRate>2.5)][[\"Country\",\"GNI\",\"FertilityRate\"]]"
     ],
     "language": "python",
     "metadata": {},
     "outputs": [
      {
       "html": [
        "<div style=\"max-height:1000px;max-width:1500px;overflow:auto;\">\n",
        "<table border=\"1\" class=\"dataframe\">\n",
        "  <thead>\n",
        "    <tr style=\"text-align: right;\">\n",
        "      <th></th>\n",
        "      <th>Country</th>\n",
        "      <th>GNI</th>\n",
        "      <th>FertilityRate</th>\n",
        "    </tr>\n",
        "  </thead>\n",
        "  <tbody>\n",
        "    <tr>\n",
        "      <th>22 </th>\n",
        "      <td>          Botswana</td>\n",
        "      <td> 14550</td>\n",
        "      <td> 2.71</td>\n",
        "    </tr>\n",
        "    <tr>\n",
        "      <th>55 </th>\n",
        "      <td> Equatorial Guinea</td>\n",
        "      <td> 25620</td>\n",
        "      <td> 5.04</td>\n",
        "    </tr>\n",
        "    <tr>\n",
        "      <th>62 </th>\n",
        "      <td>             Gabon</td>\n",
        "      <td> 13740</td>\n",
        "      <td> 4.18</td>\n",
        "    </tr>\n",
        "    <tr>\n",
        "      <th>82 </th>\n",
        "      <td>            Israel</td>\n",
        "      <td> 27110</td>\n",
        "      <td> 2.92</td>\n",
        "    </tr>\n",
        "    <tr>\n",
        "      <th>87 </th>\n",
        "      <td>        Kazakhstan</td>\n",
        "      <td> 11250</td>\n",
        "      <td> 2.52</td>\n",
        "    </tr>\n",
        "    <tr>\n",
        "      <th>130</th>\n",
        "      <td>            Panama</td>\n",
        "      <td> 14510</td>\n",
        "      <td> 2.52</td>\n",
        "    </tr>\n",
        "    <tr>\n",
        "      <th>149</th>\n",
        "      <td>      Saudi Arabia</td>\n",
        "      <td> 24700</td>\n",
        "      <td> 2.76</td>\n",
        "    </tr>\n",
        "  </tbody>\n",
        "</table>\n",
        "<p>7 rows \u00d7 3 columns</p>\n",
        "</div>"
       ],
       "metadata": {},
       "output_type": "pyout",
       "prompt_number": 20,
       "text": [
        "               Country    GNI  FertilityRate\n",
        "22            Botswana  14550           2.71\n",
        "55   Equatorial Guinea  25620           5.04\n",
        "62               Gabon  13740           4.18\n",
        "82              Israel  27110           2.92\n",
        "87          Kazakhstan  11250           2.52\n",
        "130             Panama  14510           2.52\n",
        "149       Saudi Arabia  24700           2.76\n",
        "\n",
        "[7 rows x 3 columns]"
       ]
      }
     ],
     "prompt_number": 20
    },
    {
     "cell_type": "markdown",
     "metadata": {},
     "source": [
      "Now drawing the histogram of cellular subscribers"
     ]
    },
    {
     "cell_type": "code",
     "collapsed": false,
     "input": [
      "df.CellularSubscribers.hist()"
     ],
     "language": "python",
     "metadata": {},
     "outputs": [
      {
       "metadata": {},
       "output_type": "pyout",
       "prompt_number": 21,
       "text": [
        "<matplotlib.axes.AxesSubplot at 0x599d490>"
       ]
      },
      {
       "metadata": {},
       "output_type": "display_data",
       "png": "[encoded data removed]",
       "text": [
        "<matplotlib.figure.Figure at 0x597b1d0>"
       ]
      }
     ],
     "prompt_number": 21
    },
    {
     "cell_type": "markdown",
     "metadata": {},
     "source": [
      "Box plot of countries by region"
     ]
    },
    {
     "cell_type": "code",
     "collapsed": false,
     "input": [
      "groupper=df.groupby(\"Region\")"
     ],
     "language": "python",
     "metadata": {},
     "outputs": [],
     "prompt_number": 23
    },
    {
     "cell_type": "code",
     "collapsed": false,
     "input": [
      "ax=df.boxplot(by=\"Region\",column=\"LifeExpectancy\")\n",
      "ax.set_title(\"Life expectancy by region\")\n",
      "ax.set_ylabel(\"Life Expectancy\")\n",
      "ax.set_xlabel(\"Region\")\n",
      "plt.tight_layout()\n"
     ],
     "language": "python",
     "metadata": {},
     "outputs": [
      {
       "metadata": {},
       "output_type": "display_data",
       "png": "[encoded data removed]",
       "text": [
        "<matplotlib.figure.Figure at 0x8ebb590>"
       ]
      }
     ],
     "prompt_number": 50
    },
    {
     "cell_type": "code",
     "collapsed": false,
     "input": [
      "groupper = df.groupby(\"Region\")"
     ],
     "language": "python",
     "metadata": {},
     "outputs": [],
     "prompt_number": 52
    },
    {
     "cell_type": "code",
     "collapsed": false,
     "input": [
      "groupper.LifeExpectancy.count()"
     ],
     "language": "python",
     "metadata": {},
     "outputs": [
      {
       "metadata": {},
       "output_type": "pyout",
       "prompt_number": 53,
       "text": [
        "Region\n",
        "Africa                   46\n",
        "Americas                 35\n",
        "Eastern Mediterranean    22\n",
        "Europe                   53\n",
        "South-East Asia          11\n",
        "Western Pacific          27\n",
        "dtype: int64"
       ]
      }
     ],
     "prompt_number": 53
    },
    {
     "cell_type": "code",
     "collapsed": false,
     "input": [
      "groupper.Over60.mean()"
     ],
     "language": "python",
     "metadata": {},
     "outputs": [
      {
       "metadata": {},
       "output_type": "pyout",
       "prompt_number": 54,
       "text": [
        "Region\n",
        "Africa                    5.220652\n",
        "Americas                 10.943714\n",
        "Eastern Mediterranean     5.620000\n",
        "Europe                   19.774906\n",
        "South-East Asia           8.769091\n",
        "Western Pacific          10.162963\n",
        "Name: Over60, dtype: float64"
       ]
      }
     ],
     "prompt_number": 54
    },
    {
     "cell_type": "code",
     "collapsed": false,
     "input": [
      "groupper.LiteracyRate.min()"
     ],
     "language": "python",
     "metadata": {},
     "outputs": [
      {
       "metadata": {},
       "output_type": "pyout",
       "prompt_number": 56,
       "text": [
        "Region\n",
        "Africa                   31.1\n",
        "Americas                 75.2\n",
        "Eastern Mediterranean    63.9\n",
        "Europe                   95.2\n",
        "South-East Asia          56.8\n",
        "Western Pacific          60.6\n",
        "Name: LiteracyRate, dtype: float64"
       ]
      }
     ],
     "prompt_number": 56
    },
    {
     "cell_type": "markdown",
     "metadata": {},
     "source": [
      "Mean value of Over 60\n"
     ]
    },
    {
     "cell_type": "code",
     "collapsed": false,
     "input": [
      "df.Over60.mean()"
     ],
     "language": "python",
     "metadata": {},
     "outputs": [
      {
       "metadata": {},
       "output_type": "pyout",
       "prompt_number": 57,
       "text": [
        "11.163659793814434"
       ]
      }
     ],
     "prompt_number": 57
    },
    {
     "cell_type": "code",
     "collapsed": false,
     "input": [
      "df.Country[df.Over60.argmin()]"
     ],
     "language": "python",
     "metadata": {},
     "outputs": [
      {
       "metadata": {},
       "output_type": "pyout",
       "prompt_number": 58,
       "text": [
        "'United Arab Emirates'"
       ]
      }
     ],
     "prompt_number": 58
    },
    {
     "cell_type": "code",
     "collapsed": false,
     "input": [
      "df.Country[df.LiteracyRate.argmax()]"
     ],
     "language": "python",
     "metadata": {},
     "outputs": [
      {
       "metadata": {},
       "output_type": "pyout",
       "prompt_number": 59,
       "text": [
        "'Cuba'"
       ]
      }
     ],
     "prompt_number": 59
    },
    {
     "cell_type": "code",
     "collapsed": false,
     "input": [],
     "language": "python",
     "metadata": {},
     "outputs": []
    }
   ],
   "metadata": {}
  }
 ]
}