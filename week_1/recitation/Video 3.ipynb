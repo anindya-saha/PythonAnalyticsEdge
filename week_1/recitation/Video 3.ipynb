{
 "metadata": {
  "name": ""
 },
 "nbformat": 3,
 "nbformat_minor": 0,
 "worksheets": [
  {
   "cells": [
    {
     "cell_type": "code",
     "collapsed": false,
     "input": [
      "%matplotlib inline"
     ],
     "language": "python",
     "metadata": {},
     "outputs": [],
     "prompt_number": 1
    },
    {
     "cell_type": "code",
     "collapsed": false,
     "input": [
      "import pandas as pd"
     ],
     "language": "python",
     "metadata": {},
     "outputs": [],
     "prompt_number": 2
    },
    {
     "cell_type": "markdown",
     "metadata": {},
     "source": [
      "Let us print the Pandas version"
     ]
    },
    {
     "cell_type": "code",
     "collapsed": false,
     "input": [
      "pd.__version__"
     ],
     "language": "python",
     "metadata": {},
     "outputs": [
      {
       "metadata": {},
       "output_type": "pyout",
       "prompt_number": 3,
       "text": [
        "'0.13.1'"
       ]
      }
     ],
     "prompt_number": 3
    },
    {
     "cell_type": "markdown",
     "metadata": {},
     "source": [
      "Reading the CSV stored in the `data` folder"
     ]
    },
    {
     "cell_type": "code",
     "collapsed": false,
     "input": [
      "usda = pd.read_csv(\"../data/USDA.csv\")"
     ],
     "language": "python",
     "metadata": {},
     "outputs": [],
     "prompt_number": 4
    },
    {
     "cell_type": "markdown",
     "metadata": {},
     "source": [
      "Getting `sodium` series"
     ]
    },
    {
     "cell_type": "code",
     "collapsed": false,
     "input": [
      "sodium = usda.Sodium"
     ],
     "language": "python",
     "metadata": {},
     "outputs": [],
     "prompt_number": 6
    },
    {
     "cell_type": "code",
     "collapsed": false,
     "input": [
      "sodium.head()"
     ],
     "language": "python",
     "metadata": {},
     "outputs": [
      {
       "metadata": {},
       "output_type": "pyout",
       "prompt_number": 7,
       "text": [
        "0     714\n",
        "1     827\n",
        "2       2\n",
        "3    1395\n",
        "4     560\n",
        "Name: Sodium, dtype: float64"
       ]
      }
     ],
     "prompt_number": 7
    },
    {
     "cell_type": "markdown",
     "metadata": {},
     "source": [
      "Finding which food has maximum sodium level"
     ]
    },
    {
     "cell_type": "code",
     "collapsed": false,
     "input": [
      "sodium.argmax()"
     ],
     "language": "python",
     "metadata": {},
     "outputs": [
      {
       "metadata": {},
       "output_type": "pyout",
       "prompt_number": 8,
       "text": [
        "264"
       ]
      }
     ],
     "prompt_number": 8
    },
    {
     "cell_type": "markdown",
     "metadata": {},
     "source": [
      "Finding which food this is"
     ]
    },
    {
     "cell_type": "code",
     "collapsed": false,
     "input": [
      "usda.Description[sodium.argmax()]"
     ],
     "language": "python",
     "metadata": {},
     "outputs": [
      {
       "metadata": {},
       "output_type": "pyout",
       "prompt_number": 9,
       "text": [
        "'SALT,TABLE'"
       ]
      }
     ],
     "prompt_number": 9
    },
    {
     "cell_type": "markdown",
     "metadata": {},
     "source": [
      "Creating a `DataFrame` containing more than 10000mg sodium"
     ]
    },
    {
     "cell_type": "code",
     "collapsed": false,
     "input": [
      "high_sodium_df = usda[usda.Sodium>10000]"
     ],
     "language": "python",
     "metadata": {},
     "outputs": [],
     "prompt_number": 10
    },
    {
     "cell_type": "markdown",
     "metadata": {},
     "source": [
      "Finding how many foods have sodium more than 10000mg"
     ]
    },
    {
     "cell_type": "code",
     "collapsed": false,
     "input": [
      "len(high_sodium_df.index)"
     ],
     "language": "python",
     "metadata": {},
     "outputs": [
      {
       "metadata": {},
       "output_type": "pyout",
       "prompt_number": 11,
       "text": [
        "10"
       ]
      }
     ],
     "prompt_number": 11
    },
    {
     "cell_type": "markdown",
     "metadata": {},
     "source": [
      "Finding the names of these 10 foods"
     ]
    },
    {
     "cell_type": "code",
     "collapsed": false,
     "input": [
      "high_sodium_df.Description"
     ],
     "language": "python",
     "metadata": {},
     "outputs": [
      {
       "metadata": {},
       "output_type": "pyout",
       "prompt_number": 12,
       "text": [
        "264                                            SALT,TABLE\n",
        "921                     SOUP,BF BROTH OR BOUILLON,PDR,DRY\n",
        "922                             SOUP,BEEF BROTH,CUBED,DRY\n",
        "924                      SOUP,CHICK BROTH OR BOUILLON,DRY\n",
        "925                            SOUP,CHICK BROTH CUBES,DRY\n",
        "937                                      GRAVY,AU JUS,DRY\n",
        "1302                                         ADOBO FRESCO\n",
        "5320    LEAVENING AGENTS,BAKING PDR,DOUBLE-ACTING,NA A...\n",
        "5323                         LEAVENING AGENTS,BAKING SODA\n",
        "5697                      DESSERTS,RENNIN,TABLETS,UNSWTND\n",
        "Name: Description, dtype: object"
       ]
      }
     ],
     "prompt_number": 12
    },
    {
     "cell_type": "markdown",
     "metadata": {},
     "source": [
      "Finding the sodium level of `CAVIAR`"
     ]
    },
    {
     "cell_type": "code",
     "collapsed": false,
     "input": [
      "usda.Sodium[usda.Description==\"CAVIAR\"].values[0]"
     ],
     "language": "python",
     "metadata": {},
     "outputs": [
      {
       "metadata": {},
       "output_type": "pyout",
       "prompt_number": 16,
       "text": [
        "1500.0"
       ]
      }
     ],
     "prompt_number": 16
    },
    {
     "cell_type": "markdown",
     "metadata": {},
     "source": [
      "Finding summary of Sodium"
     ]
    },
    {
     "cell_type": "code",
     "collapsed": false,
     "input": [
      "usda.Sodium.describe()"
     ],
     "language": "python",
     "metadata": {},
     "outputs": [
      {
       "metadata": {},
       "output_type": "pyout",
       "prompt_number": 17,
       "text": [
        "count     6974.000000\n",
        "mean       322.059220\n",
        "std       1045.416931\n",
        "min          0.000000\n",
        "25%         37.000000\n",
        "50%         79.000000\n",
        "75%        386.000000\n",
        "max      38758.000000\n",
        "Name: Sodium, dtype: float64"
       ]
      }
     ],
     "prompt_number": 17
    },
    {
     "cell_type": "markdown",
     "metadata": {},
     "source": [
      "Finding `standard deviation` of `Sodium`"
     ]
    },
    {
     "cell_type": "code",
     "collapsed": false,
     "input": [
      "usda.Sodium.std()"
     ],
     "language": "python",
     "metadata": {},
     "outputs": [
      {
       "metadata": {},
       "output_type": "pyout",
       "prompt_number": 18,
       "text": [
        "1045.4169311578748"
       ]
      }
     ],
     "prompt_number": 18
    }
   ],
   "metadata": {}
  }
 ]
}