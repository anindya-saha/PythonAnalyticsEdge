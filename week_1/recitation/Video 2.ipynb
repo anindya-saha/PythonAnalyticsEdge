{
 "metadata": {
  "name": ""
 },
 "nbformat": 3,
 "nbformat_minor": 0,
 "worksheets": [
  {
   "cells": [
    {
     "cell_type": "code",
     "collapsed": false,
     "input": [
      "%matplotlib inline"
     ],
     "language": "python",
     "metadata": {},
     "outputs": [],
     "prompt_number": 1
    },
    {
     "cell_type": "code",
     "collapsed": false,
     "input": [
      "import pandas as pd"
     ],
     "language": "python",
     "metadata": {},
     "outputs": [],
     "prompt_number": 2
    },
    {
     "cell_type": "markdown",
     "metadata": {},
     "source": [
      "Let us print the Pandas version"
     ]
    },
    {
     "cell_type": "code",
     "collapsed": false,
     "input": [
      "pd.__version__"
     ],
     "language": "python",
     "metadata": {},
     "outputs": [
      {
       "metadata": {},
       "output_type": "pyout",
       "prompt_number": 8,
       "text": [
        "'0.13.1'"
       ]
      }
     ],
     "prompt_number": 8
    },
    {
     "cell_type": "markdown",
     "metadata": {},
     "source": [
      "Downloading USDA dataset"
     ]
    },
    {
     "cell_type": "code",
     "collapsed": false,
     "input": [
      "!wget https://courses.edx.org/c4x/MITx/15.071x/asset/USDA.csv "
     ],
     "language": "python",
     "metadata": {},
     "outputs": [
      {
       "output_type": "stream",
       "stream": "stdout",
       "text": [
        "--2014-03-08 18:18:16--  https://courses.edx.org/c4x/MITx/15.071x/asset/USDA.csv\r\n",
        "Resolving courses.edx.org (courses.edx.org)... "
       ]
      },
      {
       "output_type": "stream",
       "stream": "stdout",
       "text": [
        "54.235.131.26, 107.21.117.248\r\n",
        "Connecting to courses.edx.org (courses.edx.org)|54.235.131.26|:443... "
       ]
      },
      {
       "output_type": "stream",
       "stream": "stdout",
       "text": [
        "connected.\r\n"
       ]
      },
      {
       "output_type": "stream",
       "stream": "stdout",
       "text": [
        "HTTP request sent, awaiting response... "
       ]
      },
      {
       "output_type": "stream",
       "stream": "stdout",
       "text": [
        "200 OK\r\n",
        "Length: unspecified [text/csv]\r\n",
        "Saving to: \u2018USDA.csv\u2019\r\n",
        "\r\n",
        "\r",
        "    [<=>                                    ] 0           --.-K/s              "
       ]
      },
      {
       "output_type": "stream",
       "stream": "stdout",
       "text": [
        "\r",
        "    [ <=>                                   ] 39,283       109KB/s             "
       ]
      },
      {
       "output_type": "stream",
       "stream": "stdout",
       "text": [
        "\r",
        "    [  <=>                                  ] 72,037       108KB/s             "
       ]
      },
      {
       "output_type": "stream",
       "stream": "stdout",
       "text": [
        "\r",
        "    [   <=>                                 ] 103,138      113KB/s             "
       ]
      },
      {
       "output_type": "stream",
       "stream": "stdout",
       "text": [
        "\r",
        "    [    <=>                                ] 153,901      135KB/s             "
       ]
      },
      {
       "output_type": "stream",
       "stream": "stdout",
       "text": [
        "\r",
        "    [     <=>                               ] 162,506     68.7KB/s             "
       ]
      },
      {
       "output_type": "stream",
       "stream": "stdout",
       "text": [
        "\r",
        "    [      <=>                              ] 186,653     63.4KB/s             "
       ]
      },
      {
       "output_type": "stream",
       "stream": "stdout",
       "text": [
        "\r",
        "    [       <=>                             ] 198,706     61.2KB/s             "
       ]
      },
      {
       "output_type": "stream",
       "stream": "stdout",
       "text": [
        "\r",
        "    [        <=>                            ] 235,789     66.6KB/s             "
       ]
      },
      {
       "output_type": "stream",
       "stream": "stdout",
       "text": [
        "\r",
        "    [         <=>                           ] 268,541     70.4KB/s             "
       ]
      },
      {
       "output_type": "stream",
       "stream": "stdout",
       "text": [
        "\r",
        "    [          <=>                          ] 317,677     76.6KB/s             "
       ]
      },
      {
       "output_type": "stream",
       "stream": "stdout",
       "text": [
        "\r",
        "    [           <=>                         ] 344,954     56.4KB/s             "
       ]
      },
      {
       "output_type": "stream",
       "stream": "stdout",
       "text": [
        "\r",
        "    [            <=>                        ] 366,813     54.7KB/s             "
       ]
      },
      {
       "output_type": "stream",
       "stream": "stdout",
       "text": [
        "\r",
        "    [             <=>                       ] 383,189     54.8KB/s             "
       ]
      },
      {
       "output_type": "stream",
       "stream": "stdout",
       "text": [
        "\r",
        "    [              <=>                      ] 415,949     57.1KB/s             "
       ]
      },
      {
       "output_type": "stream",
       "stream": "stdout",
       "text": [
        "\r",
        "    [               <=>                     ] 446,314     58.6KB/s             "
       ]
      },
      {
       "output_type": "stream",
       "stream": "stdout",
       "text": [
        "\r",
        "    [                <=>                    ] 478,170     60.4KB/s             "
       ]
      },
      {
       "output_type": "stream",
       "stream": "stdout",
       "text": [
        "\r",
        "    [                 <=>                   ] 527,402     64.2KB/s             "
       ]
      },
      {
       "output_type": "stream",
       "stream": "stdout",
       "text": [
        "\r",
        "    [                  <=>                  ] 563,357     62.2KB/s             "
       ]
      },
      {
       "output_type": "stream",
       "stream": "stdout",
       "text": [
        "\r",
        "    [                   <=>                 ] 579,733     60.1KB/s             "
       ]
      },
      {
       "output_type": "stream",
       "stream": "stdout",
       "text": [
        "\r",
        "    [                    <=>                ] 594,010     59.8KB/s             "
       ]
      },
      {
       "output_type": "stream",
       "stream": "stdout",
       "text": [
        "\r",
        "    [                     <=>               ] 612,493     58.0KB/s             "
       ]
      },
      {
       "output_type": "stream",
       "stream": "stdout",
       "text": [
        "\r",
        "    [                      <=>              ] 628,877     56.5KB/s             "
       ]
      },
      {
       "output_type": "stream",
       "stream": "stdout",
       "text": [
        "\r",
        "    [                       <=>             ] 661,637     56.2KB/s             "
       ]
      },
      {
       "output_type": "stream",
       "stream": "stdout",
       "text": [
        "\r",
        "    [                        <=>            ] 690,056     58.5KB/s   in 11s    \r\n",
        "\r\n",
        "2014-03-08 18:18:28 (63.1 KB/s) - \u2018USDA.csv\u2019 saved [690056]\r\n",
        "\r\n"
       ]
      }
     ],
     "prompt_number": 5
    },
    {
     "cell_type": "code",
     "collapsed": false,
     "input": [
      "!mv USDA.csv ../data/"
     ],
     "language": "python",
     "metadata": {},
     "outputs": [],
     "prompt_number": 6
    },
    {
     "cell_type": "markdown",
     "metadata": {},
     "source": [
      "Let us find the current working directory"
     ]
    },
    {
     "cell_type": "code",
     "collapsed": false,
     "input": [
      "!pwd"
     ],
     "language": "python",
     "metadata": {},
     "outputs": [
      {
       "output_type": "stream",
       "stream": "stdout",
       "text": [
        "/home/nipun/git/analytics_edge/week_1/recitation\r\n"
       ]
      }
     ],
     "prompt_number": 7
    },
    {
     "cell_type": "markdown",
     "metadata": {},
     "source": [
      "Reading the CSV stored in the `data` folder"
     ]
    },
    {
     "cell_type": "code",
     "collapsed": false,
     "input": [
      "usda = pd.read_csv(\"../data/USDA.csv\")"
     ],
     "language": "python",
     "metadata": {},
     "outputs": [],
     "prompt_number": 9
    },
    {
     "cell_type": "markdown",
     "metadata": {},
     "source": [
      "Finding the `dtype` of columns"
     ]
    },
    {
     "cell_type": "code",
     "collapsed": false,
     "input": [
      "usda.dtypes"
     ],
     "language": "python",
     "metadata": {},
     "outputs": [
      {
       "metadata": {},
       "output_type": "pyout",
       "prompt_number": 12,
       "text": [
        "ID                int64\n",
        "Description      object\n",
        "Calories        float64\n",
        "Protein         float64\n",
        "TotalFat        float64\n",
        "Carbohydrate    float64\n",
        "Sodium          float64\n",
        "SaturatedFat    float64\n",
        "Cholesterol     float64\n",
        "Sugar           float64\n",
        "Calcium         float64\n",
        "Iron            float64\n",
        "Potassium       float64\n",
        "VitaminC        float64\n",
        "VitaminE        float64\n",
        "VitaminD        float64\n",
        "dtype: object"
       ]
      }
     ],
     "prompt_number": 12
    },
    {
     "cell_type": "markdown",
     "metadata": {},
     "source": [
      "Describing the `DataFrame`"
     ]
    },
    {
     "cell_type": "code",
     "collapsed": false,
     "input": [
      "usda.describe()"
     ],
     "language": "python",
     "metadata": {},
     "outputs": [
      {
       "html": [
        "<div style=\"max-height:1000px;max-width:1500px;overflow:auto;\">\n",
        "<table border=\"1\" class=\"dataframe\">\n",
        "  <thead>\n",
        "    <tr style=\"text-align: right;\">\n",
        "      <th></th>\n",
        "      <th>ID</th>\n",
        "      <th>Calories</th>\n",
        "      <th>Protein</th>\n",
        "      <th>TotalFat</th>\n",
        "      <th>Carbohydrate</th>\n",
        "      <th>Sodium</th>\n",
        "      <th>SaturatedFat</th>\n",
        "      <th>Cholesterol</th>\n",
        "      <th>Sugar</th>\n",
        "      <th>Calcium</th>\n",
        "      <th>Iron</th>\n",
        "      <th>Potassium</th>\n",
        "      <th>VitaminC</th>\n",
        "      <th>VitaminE</th>\n",
        "      <th>VitaminD</th>\n",
        "    </tr>\n",
        "  </thead>\n",
        "  <tbody>\n",
        "    <tr>\n",
        "      <th>count</th>\n",
        "      <td>  7058.000000</td>\n",
        "      <td> 7057.000000</td>\n",
        "      <td> 7057.000000</td>\n",
        "      <td> 7057.000000</td>\n",
        "      <td> 7057.000000</td>\n",
        "      <td>  6974.000000</td>\n",
        "      <td> 6757.000000</td>\n",
        "      <td> 6770.000000</td>\n",
        "      <td> 5148.000000</td>\n",
        "      <td> 6922.000000</td>\n",
        "      <td> 6935.000000</td>\n",
        "      <td>  6649.000000</td>\n",
        "      <td> 6726.000000</td>\n",
        "      <td> 4338.000000</td>\n",
        "      <td> 4224.000000</td>\n",
        "    </tr>\n",
        "    <tr>\n",
        "      <th>mean</th>\n",
        "      <td> 14259.821196</td>\n",
        "      <td>  219.695338</td>\n",
        "      <td>   11.710368</td>\n",
        "      <td>   10.320614</td>\n",
        "      <td>   20.697860</td>\n",
        "      <td>   322.059220</td>\n",
        "      <td>    3.452267</td>\n",
        "      <td>   41.551994</td>\n",
        "      <td>    8.256540</td>\n",
        "      <td>   73.530627</td>\n",
        "      <td>    2.828368</td>\n",
        "      <td>   301.357949</td>\n",
        "      <td>    9.435980</td>\n",
        "      <td>    1.487462</td>\n",
        "      <td>    0.576918</td>\n",
        "    </tr>\n",
        "    <tr>\n",
        "      <th>std</th>\n",
        "      <td>  8577.179705</td>\n",
        "      <td>  172.198755</td>\n",
        "      <td>   10.919356</td>\n",
        "      <td>   16.814191</td>\n",
        "      <td>   27.630443</td>\n",
        "      <td>  1045.416931</td>\n",
        "      <td>    6.921267</td>\n",
        "      <td>  122.963028</td>\n",
        "      <td>   15.361509</td>\n",
        "      <td>  222.445338</td>\n",
        "      <td>    6.019878</td>\n",
        "      <td>   415.638949</td>\n",
        "      <td>   71.256536</td>\n",
        "      <td>    5.386914</td>\n",
        "      <td>    4.301147</td>\n",
        "    </tr>\n",
        "    <tr>\n",
        "      <th>min</th>\n",
        "      <td>  1001.000000</td>\n",
        "      <td>    0.000000</td>\n",
        "      <td>    0.000000</td>\n",
        "      <td>    0.000000</td>\n",
        "      <td>    0.000000</td>\n",
        "      <td>     0.000000</td>\n",
        "      <td>    0.000000</td>\n",
        "      <td>    0.000000</td>\n",
        "      <td>    0.000000</td>\n",
        "      <td>    0.000000</td>\n",
        "      <td>    0.000000</td>\n",
        "      <td>     0.000000</td>\n",
        "      <td>    0.000000</td>\n",
        "      <td>    0.000000</td>\n",
        "      <td>    0.000000</td>\n",
        "    </tr>\n",
        "    <tr>\n",
        "      <th>25%</th>\n",
        "      <td>  8387.250000</td>\n",
        "      <td>   85.000000</td>\n",
        "      <td>    2.290000</td>\n",
        "      <td>    0.720000</td>\n",
        "      <td>    0.000000</td>\n",
        "      <td>    37.000000</td>\n",
        "      <td>    0.172000</td>\n",
        "      <td>    0.000000</td>\n",
        "      <td>    0.000000</td>\n",
        "      <td>    9.000000</td>\n",
        "      <td>    0.520000</td>\n",
        "      <td>   135.000000</td>\n",
        "      <td>    0.000000</td>\n",
        "      <td>    0.120000</td>\n",
        "      <td>    0.000000</td>\n",
        "    </tr>\n",
        "    <tr>\n",
        "      <th>50%</th>\n",
        "      <td> 13293.500000</td>\n",
        "      <td>  181.000000</td>\n",
        "      <td>    8.200000</td>\n",
        "      <td>    4.370000</td>\n",
        "      <td>    7.130000</td>\n",
        "      <td>    79.000000</td>\n",
        "      <td>    1.256000</td>\n",
        "      <td>    3.000000</td>\n",
        "      <td>    1.395000</td>\n",
        "      <td>   19.000000</td>\n",
        "      <td>    1.330000</td>\n",
        "      <td>   250.000000</td>\n",
        "      <td>    0.000000</td>\n",
        "      <td>    0.270000</td>\n",
        "      <td>    0.000000</td>\n",
        "    </tr>\n",
        "    <tr>\n",
        "      <th>75%</th>\n",
        "      <td> 18336.750000</td>\n",
        "      <td>  331.000000</td>\n",
        "      <td>   20.430000</td>\n",
        "      <td>   12.700000</td>\n",
        "      <td>   28.170000</td>\n",
        "      <td>   386.000000</td>\n",
        "      <td>    4.028000</td>\n",
        "      <td>   69.000000</td>\n",
        "      <td>    7.875000</td>\n",
        "      <td>   56.000000</td>\n",
        "      <td>    2.620000</td>\n",
        "      <td>   348.000000</td>\n",
        "      <td>    3.100000</td>\n",
        "      <td>    0.710000</td>\n",
        "      <td>    0.100000</td>\n",
        "    </tr>\n",
        "    <tr>\n",
        "      <th>max</th>\n",
        "      <td> 93600.000000</td>\n",
        "      <td>  902.000000</td>\n",
        "      <td>   88.320000</td>\n",
        "      <td>  100.000000</td>\n",
        "      <td>  100.000000</td>\n",
        "      <td> 38758.000000</td>\n",
        "      <td>   95.600000</td>\n",
        "      <td> 3100.000000</td>\n",
        "      <td>   99.800000</td>\n",
        "      <td> 7364.000000</td>\n",
        "      <td>  123.600000</td>\n",
        "      <td> 16500.000000</td>\n",
        "      <td> 2400.000000</td>\n",
        "      <td>  149.400000</td>\n",
        "      <td>  250.000000</td>\n",
        "    </tr>\n",
        "  </tbody>\n",
        "</table>\n",
        "<p>8 rows \u00d7 15 columns</p>\n",
        "</div>"
       ],
       "metadata": {},
       "output_type": "pyout",
       "prompt_number": 10,
       "text": [
        "                 ID     Calories      Protein     TotalFat  Carbohydrate  \\\n",
        "count   7058.000000  7057.000000  7057.000000  7057.000000   7057.000000   \n",
        "mean   14259.821196   219.695338    11.710368    10.320614     20.697860   \n",
        "std     8577.179705   172.198755    10.919356    16.814191     27.630443   \n",
        "min     1001.000000     0.000000     0.000000     0.000000      0.000000   \n",
        "25%     8387.250000    85.000000     2.290000     0.720000      0.000000   \n",
        "50%    13293.500000   181.000000     8.200000     4.370000      7.130000   \n",
        "75%    18336.750000   331.000000    20.430000    12.700000     28.170000   \n",
        "max    93600.000000   902.000000    88.320000   100.000000    100.000000   \n",
        "\n",
        "             Sodium  SaturatedFat  Cholesterol        Sugar      Calcium  \\\n",
        "count   6974.000000   6757.000000  6770.000000  5148.000000  6922.000000   \n",
        "mean     322.059220      3.452267    41.551994     8.256540    73.530627   \n",
        "std     1045.416931      6.921267   122.963028    15.361509   222.445338   \n",
        "min        0.000000      0.000000     0.000000     0.000000     0.000000   \n",
        "25%       37.000000      0.172000     0.000000     0.000000     9.000000   \n",
        "50%       79.000000      1.256000     3.000000     1.395000    19.000000   \n",
        "75%      386.000000      4.028000    69.000000     7.875000    56.000000   \n",
        "max    38758.000000     95.600000  3100.000000    99.800000  7364.000000   \n",
        "\n",
        "              Iron     Potassium     VitaminC     VitaminE     VitaminD  \n",
        "count  6935.000000   6649.000000  6726.000000  4338.000000  4224.000000  \n",
        "mean      2.828368    301.357949     9.435980     1.487462     0.576918  \n",
        "std       6.019878    415.638949    71.256536     5.386914     4.301147  \n",
        "min       0.000000      0.000000     0.000000     0.000000     0.000000  \n",
        "25%       0.520000    135.000000     0.000000     0.120000     0.000000  \n",
        "50%       1.330000    250.000000     0.000000     0.270000     0.000000  \n",
        "75%       2.620000    348.000000     3.100000     0.710000     0.100000  \n",
        "max     123.600000  16500.000000  2400.000000   149.400000   250.000000  \n",
        "\n",
        "[8 rows x 15 columns]"
       ]
      }
     ],
     "prompt_number": 10
    },
    {
     "cell_type": "markdown",
     "metadata": {},
     "source": [
      "Finding the count of `non-null` entries. Recipe borrowed from the forum"
     ]
    },
    {
     "cell_type": "code",
     "collapsed": false,
     "input": [
      "usda.isnull().sum()"
     ],
     "language": "python",
     "metadata": {},
     "outputs": [
      {
       "metadata": {},
       "output_type": "pyout",
       "prompt_number": 16,
       "text": [
        "ID                 0\n",
        "Description        0\n",
        "Calories           1\n",
        "Protein            1\n",
        "TotalFat           1\n",
        "Carbohydrate       1\n",
        "Sodium            84\n",
        "SaturatedFat     301\n",
        "Cholesterol      288\n",
        "Sugar           1910\n",
        "Calcium          136\n",
        "Iron             123\n",
        "Potassium        409\n",
        "VitaminC         332\n",
        "VitaminE        2720\n",
        "VitaminD        2834\n",
        "dtype: int64"
       ]
      }
     ],
     "prompt_number": 16
    }
   ],
   "metadata": {}
  }
 ]
}