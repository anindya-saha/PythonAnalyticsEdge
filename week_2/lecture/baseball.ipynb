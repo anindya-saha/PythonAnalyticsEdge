{
 "metadata": {
  "name": ""
 },
 "nbformat": 3,
 "nbformat_minor": 0,
 "worksheets": [
  {
   "cells": [
    {
     "cell_type": "heading",
     "level": 2,
     "metadata": {},
     "source": [
      "Moneyball "
     ]
    },
    {
     "cell_type": "code",
     "collapsed": false,
     "input": [
      "import pandas as pd\n",
      "import statsmodels.formula.api as sm"
     ],
     "language": "python",
     "metadata": {},
     "outputs": [],
     "prompt_number": 1
    },
    {
     "cell_type": "code",
     "collapsed": false,
     "input": [
      "!wget https://courses.edx.org/c4x/MITx/15.071x/asset/baseball.csv"
     ],
     "language": "python",
     "metadata": {},
     "outputs": [
      {
       "output_type": "stream",
       "stream": "stdout",
       "text": [
        "--2014-03-11 12:54:35--  https://courses.edx.org/c4x/MITx/15.071x/asset/baseball.csv\r\n",
        "Resolving courses.edx.org (courses.edx.org)... "
       ]
      },
      {
       "output_type": "stream",
       "stream": "stdout",
       "text": [
        "107.21.117.248, 54.235.131.26\r\n",
        "Connecting to courses.edx.org (courses.edx.org)|107.21.117.248|:443... "
       ]
      },
      {
       "output_type": "stream",
       "stream": "stdout",
       "text": [
        "connected.\r\n"
       ]
      },
      {
       "output_type": "stream",
       "stream": "stdout",
       "text": [
        "HTTP request sent, awaiting response... "
       ]
      },
      {
       "output_type": "stream",
       "stream": "stdout",
       "text": [
        "200 OK\r\n",
        "Length: unspecified [text/csv]\r\n",
        "Saving to: \u2018baseball.csv\u2019\r\n",
        "\r\n",
        "\r",
        "    [<=>                                    ] 0           --.-K/s              "
       ]
      },
      {
       "output_type": "stream",
       "stream": "stdout",
       "text": [
        "\r",
        "    [ <=>                                   ] 4,061       4.13KB/s             "
       ]
      },
      {
       "output_type": "stream",
       "stream": "stdout",
       "text": [
        "\r",
        "    [  <=>                                  ] 12,253      5.36KB/s             "
       ]
      },
      {
       "output_type": "stream",
       "stream": "stdout",
       "text": [
        "\r",
        "    [   <=>                                 ] 23,371      7.15KB/s             "
       ]
      },
      {
       "output_type": "stream",
       "stream": "stdout",
       "text": [
        "\r",
        "    [    <=>                                ] 32,521      8.28KB/s             "
       ]
      },
      {
       "output_type": "stream",
       "stream": "stdout",
       "text": [
        "\r",
        "    [     <=>                               ] 40,713      9.47KB/s             "
       ]
      },
      {
       "output_type": "stream",
       "stream": "stdout",
       "text": [
        "\r",
        "    [      <=>                              ] 49,403      7.68KB/s             "
       ]
      },
      {
       "output_type": "stream",
       "stream": "stdout",
       "text": [
        "\r",
        "    [       <=>                             ] 65,289      8.27KB/s             \r",
        "    [        <=>                            ] 67,157      8.51KB/s   in 7.7s   \r\n",
        "\r\n",
        "2014-03-11 12:54:47 (8.51 KB/s) - \u2018baseball.csv\u2019 saved [67157]\r\n",
        "\r\n"
       ]
      }
     ],
     "prompt_number": 2
    },
    {
     "cell_type": "code",
     "collapsed": false,
     "input": [
      "!mv baseball.csv ../data/"
     ],
     "language": "python",
     "metadata": {},
     "outputs": [],
     "prompt_number": 3
    },
    {
     "cell_type": "code",
     "collapsed": false,
     "input": [
      "baseball = pd.read_csv(\"../data/baseball.csv\")"
     ],
     "language": "python",
     "metadata": {},
     "outputs": [],
     "prompt_number": 4
    },
    {
     "cell_type": "code",
     "collapsed": false,
     "input": [
      "baseball.describe()"
     ],
     "language": "python",
     "metadata": {},
     "outputs": [
      {
       "html": [
        "<div style=\"max-height:1000px;max-width:1500px;overflow:auto;\">\n",
        "<table border=\"1\" class=\"dataframe\">\n",
        "  <thead>\n",
        "    <tr style=\"text-align: right;\">\n",
        "      <th></th>\n",
        "      <th>Year</th>\n",
        "      <th>RS</th>\n",
        "      <th>RA</th>\n",
        "      <th>W</th>\n",
        "      <th>OBP</th>\n",
        "      <th>SLG</th>\n",
        "      <th>BA</th>\n",
        "      <th>Playoffs</th>\n",
        "      <th>RankSeason</th>\n",
        "      <th>RankPlayoffs</th>\n",
        "      <th>G</th>\n",
        "      <th>OOBP</th>\n",
        "      <th>OSLG</th>\n",
        "    </tr>\n",
        "  </thead>\n",
        "  <tbody>\n",
        "    <tr>\n",
        "      <th>count</th>\n",
        "      <td> 1232.000000</td>\n",
        "      <td> 1232.000000</td>\n",
        "      <td> 1232.000000</td>\n",
        "      <td> 1232.000000</td>\n",
        "      <td> 1232.000000</td>\n",
        "      <td> 1232.000000</td>\n",
        "      <td> 1232.000000</td>\n",
        "      <td> 1232.000000</td>\n",
        "      <td> 244.000000</td>\n",
        "      <td> 244.000000</td>\n",
        "      <td> 1232.000000</td>\n",
        "      <td> 420.000000</td>\n",
        "      <td> 420.000000</td>\n",
        "    </tr>\n",
        "    <tr>\n",
        "      <th>mean</th>\n",
        "      <td> 1988.957792</td>\n",
        "      <td>  715.081981</td>\n",
        "      <td>  715.081981</td>\n",
        "      <td>   80.904221</td>\n",
        "      <td>    0.326331</td>\n",
        "      <td>    0.397342</td>\n",
        "      <td>    0.259273</td>\n",
        "      <td>    0.198052</td>\n",
        "      <td>   3.122951</td>\n",
        "      <td>   2.717213</td>\n",
        "      <td>  161.918831</td>\n",
        "      <td>   0.332264</td>\n",
        "      <td>   0.419743</td>\n",
        "    </tr>\n",
        "    <tr>\n",
        "      <th>std</th>\n",
        "      <td>   14.819625</td>\n",
        "      <td>   91.534294</td>\n",
        "      <td>   93.079933</td>\n",
        "      <td>   11.458139</td>\n",
        "      <td>    0.015013</td>\n",
        "      <td>    0.033267</td>\n",
        "      <td>    0.012907</td>\n",
        "      <td>    0.398693</td>\n",
        "      <td>   1.738349</td>\n",
        "      <td>   1.095234</td>\n",
        "      <td>    0.624365</td>\n",
        "      <td>   0.015295</td>\n",
        "      <td>   0.026510</td>\n",
        "    </tr>\n",
        "    <tr>\n",
        "      <th>min</th>\n",
        "      <td> 1962.000000</td>\n",
        "      <td>  463.000000</td>\n",
        "      <td>  472.000000</td>\n",
        "      <td>   40.000000</td>\n",
        "      <td>    0.277000</td>\n",
        "      <td>    0.301000</td>\n",
        "      <td>    0.214000</td>\n",
        "      <td>    0.000000</td>\n",
        "      <td>   1.000000</td>\n",
        "      <td>   1.000000</td>\n",
        "      <td>  158.000000</td>\n",
        "      <td>   0.294000</td>\n",
        "      <td>   0.346000</td>\n",
        "    </tr>\n",
        "    <tr>\n",
        "      <th>25%</th>\n",
        "      <td> 1976.750000</td>\n",
        "      <td>  652.000000</td>\n",
        "      <td>  649.750000</td>\n",
        "      <td>   73.000000</td>\n",
        "      <td>    0.317000</td>\n",
        "      <td>    0.375000</td>\n",
        "      <td>    0.251000</td>\n",
        "      <td>    0.000000</td>\n",
        "      <td>   2.000000</td>\n",
        "      <td>   2.000000</td>\n",
        "      <td>  162.000000</td>\n",
        "      <td>   0.321000</td>\n",
        "      <td>   0.401000</td>\n",
        "    </tr>\n",
        "    <tr>\n",
        "      <th>50%</th>\n",
        "      <td> 1989.000000</td>\n",
        "      <td>  711.000000</td>\n",
        "      <td>  709.000000</td>\n",
        "      <td>   81.000000</td>\n",
        "      <td>    0.326000</td>\n",
        "      <td>    0.396000</td>\n",
        "      <td>    0.260000</td>\n",
        "      <td>    0.000000</td>\n",
        "      <td>   3.000000</td>\n",
        "      <td>   3.000000</td>\n",
        "      <td>  162.000000</td>\n",
        "      <td>   0.331000</td>\n",
        "      <td>   0.419000</td>\n",
        "    </tr>\n",
        "    <tr>\n",
        "      <th>75%</th>\n",
        "      <td> 2002.000000</td>\n",
        "      <td>  775.000000</td>\n",
        "      <td>  774.250000</td>\n",
        "      <td>   89.000000</td>\n",
        "      <td>    0.337000</td>\n",
        "      <td>    0.421000</td>\n",
        "      <td>    0.268000</td>\n",
        "      <td>    0.000000</td>\n",
        "      <td>   4.000000</td>\n",
        "      <td>   4.000000</td>\n",
        "      <td>  162.000000</td>\n",
        "      <td>   0.343000</td>\n",
        "      <td>   0.438000</td>\n",
        "    </tr>\n",
        "    <tr>\n",
        "      <th>max</th>\n",
        "      <td> 2012.000000</td>\n",
        "      <td> 1009.000000</td>\n",
        "      <td> 1103.000000</td>\n",
        "      <td>  116.000000</td>\n",
        "      <td>    0.373000</td>\n",
        "      <td>    0.491000</td>\n",
        "      <td>    0.294000</td>\n",
        "      <td>    1.000000</td>\n",
        "      <td>   8.000000</td>\n",
        "      <td>   5.000000</td>\n",
        "      <td>  165.000000</td>\n",
        "      <td>   0.384000</td>\n",
        "      <td>   0.499000</td>\n",
        "    </tr>\n",
        "  </tbody>\n",
        "</table>\n",
        "<p>8 rows \u00d7 13 columns</p>\n",
        "</div>"
       ],
       "metadata": {},
       "output_type": "pyout",
       "prompt_number": 6,
       "text": [
        "              Year           RS           RA            W          OBP  \\\n",
        "count  1232.000000  1232.000000  1232.000000  1232.000000  1232.000000   \n",
        "mean   1988.957792   715.081981   715.081981    80.904221     0.326331   \n",
        "std      14.819625    91.534294    93.079933    11.458139     0.015013   \n",
        "min    1962.000000   463.000000   472.000000    40.000000     0.277000   \n",
        "25%    1976.750000   652.000000   649.750000    73.000000     0.317000   \n",
        "50%    1989.000000   711.000000   709.000000    81.000000     0.326000   \n",
        "75%    2002.000000   775.000000   774.250000    89.000000     0.337000   \n",
        "max    2012.000000  1009.000000  1103.000000   116.000000     0.373000   \n",
        "\n",
        "               SLG           BA     Playoffs  RankSeason  RankPlayoffs  \\\n",
        "count  1232.000000  1232.000000  1232.000000  244.000000    244.000000   \n",
        "mean      0.397342     0.259273     0.198052    3.122951      2.717213   \n",
        "std       0.033267     0.012907     0.398693    1.738349      1.095234   \n",
        "min       0.301000     0.214000     0.000000    1.000000      1.000000   \n",
        "25%       0.375000     0.251000     0.000000    2.000000      2.000000   \n",
        "50%       0.396000     0.260000     0.000000    3.000000      3.000000   \n",
        "75%       0.421000     0.268000     0.000000    4.000000      4.000000   \n",
        "max       0.491000     0.294000     1.000000    8.000000      5.000000   \n",
        "\n",
        "                 G        OOBP        OSLG  \n",
        "count  1232.000000  420.000000  420.000000  \n",
        "mean    161.918831    0.332264    0.419743  \n",
        "std       0.624365    0.015295    0.026510  \n",
        "min     158.000000    0.294000    0.346000  \n",
        "25%     162.000000    0.321000    0.401000  \n",
        "50%     162.000000    0.331000    0.419000  \n",
        "75%     162.000000    0.343000    0.438000  \n",
        "max     165.000000    0.384000    0.499000  \n",
        "\n",
        "[8 rows x 13 columns]"
       ]
      }
     ],
     "prompt_number": 6
    },
    {
     "cell_type": "code",
     "collapsed": false,
     "input": [
      "baseball.dtypes"
     ],
     "language": "python",
     "metadata": {},
     "outputs": [
      {
       "metadata": {},
       "output_type": "pyout",
       "prompt_number": 7,
       "text": [
        "Team             object\n",
        "League           object\n",
        "Year              int64\n",
        "RS                int64\n",
        "RA                int64\n",
        "W                 int64\n",
        "OBP             float64\n",
        "SLG             float64\n",
        "BA              float64\n",
        "Playoffs          int64\n",
        "RankSeason      float64\n",
        "RankPlayoffs    float64\n",
        "G                 int64\n",
        "OOBP            float64\n",
        "OSLG            float64\n",
        "dtype: object"
       ]
      }
     ],
     "prompt_number": 7
    },
    {
     "cell_type": "markdown",
     "metadata": {},
     "source": [
      "Only including years before 2002"
     ]
    },
    {
     "cell_type": "code",
     "collapsed": false,
     "input": [
      "moneyball = baseball[baseball.Year<2002]"
     ],
     "language": "python",
     "metadata": {},
     "outputs": [],
     "prompt_number": 8
    },
    {
     "cell_type": "code",
     "collapsed": false,
     "input": [
      "moneyball.describe()"
     ],
     "language": "python",
     "metadata": {},
     "outputs": [
      {
       "html": [
        "<div style=\"max-height:1000px;max-width:1500px;overflow:auto;\">\n",
        "<table border=\"1\" class=\"dataframe\">\n",
        "  <thead>\n",
        "    <tr style=\"text-align: right;\">\n",
        "      <th></th>\n",
        "      <th>Year</th>\n",
        "      <th>RS</th>\n",
        "      <th>RA</th>\n",
        "      <th>W</th>\n",
        "      <th>OBP</th>\n",
        "      <th>SLG</th>\n",
        "      <th>BA</th>\n",
        "      <th>Playoffs</th>\n",
        "      <th>RankSeason</th>\n",
        "      <th>RankPlayoffs</th>\n",
        "      <th>G</th>\n",
        "      <th>OOBP</th>\n",
        "      <th>OSLG</th>\n",
        "    </tr>\n",
        "  </thead>\n",
        "  <tbody>\n",
        "    <tr>\n",
        "      <th>count</th>\n",
        "      <td>  902.000000</td>\n",
        "      <td>  902.000000</td>\n",
        "      <td>  902.000000</td>\n",
        "      <td> 902.000000</td>\n",
        "      <td> 902.000000</td>\n",
        "      <td> 902.000000</td>\n",
        "      <td> 902.000000</td>\n",
        "      <td> 902.000000</td>\n",
        "      <td> 154.000000</td>\n",
        "      <td> 154.000000</td>\n",
        "      <td> 902.000000</td>\n",
        "      <td> 90.000000</td>\n",
        "      <td> 90.000000</td>\n",
        "    </tr>\n",
        "    <tr>\n",
        "      <th>mean</th>\n",
        "      <td> 1982.356984</td>\n",
        "      <td>  703.809313</td>\n",
        "      <td>  703.809313</td>\n",
        "      <td>  80.881375</td>\n",
        "      <td>   0.324961</td>\n",
        "      <td>   0.390412</td>\n",
        "      <td>   0.258153</td>\n",
        "      <td>   0.170732</td>\n",
        "      <td>   2.792208</td>\n",
        "      <td>   2.454545</td>\n",
        "      <td> 161.906874</td>\n",
        "      <td>  0.340478</td>\n",
        "      <td>  0.432500</td>\n",
        "    </tr>\n",
        "    <tr>\n",
        "      <th>std</th>\n",
        "      <td>   11.556504</td>\n",
        "      <td>   93.314579</td>\n",
        "      <td>   93.784100</td>\n",
        "      <td>  11.403424</td>\n",
        "      <td>   0.015391</td>\n",
        "      <td>   0.033110</td>\n",
        "      <td>   0.013266</td>\n",
        "      <td>   0.376483</td>\n",
        "      <td>   1.557924</td>\n",
        "      <td>   1.016793</td>\n",
        "      <td>   0.702127</td>\n",
        "      <td>  0.015416</td>\n",
        "      <td>  0.025658</td>\n",
        "    </tr>\n",
        "    <tr>\n",
        "      <th>min</th>\n",
        "      <td> 1962.000000</td>\n",
        "      <td>  463.000000</td>\n",
        "      <td>  472.000000</td>\n",
        "      <td>  40.000000</td>\n",
        "      <td>   0.277000</td>\n",
        "      <td>   0.301000</td>\n",
        "      <td>   0.214000</td>\n",
        "      <td>   0.000000</td>\n",
        "      <td>   1.000000</td>\n",
        "      <td>   1.000000</td>\n",
        "      <td> 158.000000</td>\n",
        "      <td>  0.301000</td>\n",
        "      <td>  0.377000</td>\n",
        "    </tr>\n",
        "    <tr>\n",
        "      <th>25%</th>\n",
        "      <td> 1973.000000</td>\n",
        "      <td>  641.250000</td>\n",
        "      <td>  640.000000</td>\n",
        "      <td>  73.000000</td>\n",
        "      <td>   0.314000</td>\n",
        "      <td>   0.368000</td>\n",
        "      <td>   0.250000</td>\n",
        "      <td>   0.000000</td>\n",
        "      <td>   2.000000</td>\n",
        "      <td>   2.000000</td>\n",
        "      <td> 162.000000</td>\n",
        "      <td>  0.329000</td>\n",
        "      <td>  0.416000</td>\n",
        "    </tr>\n",
        "    <tr>\n",
        "      <th>50%</th>\n",
        "      <td> 1983.000000</td>\n",
        "      <td>  695.000000</td>\n",
        "      <td>  697.000000</td>\n",
        "      <td>  81.000000</td>\n",
        "      <td>   0.324000</td>\n",
        "      <td>   0.388000</td>\n",
        "      <td>   0.258000</td>\n",
        "      <td>   0.000000</td>\n",
        "      <td>   2.500000</td>\n",
        "      <td>   3.000000</td>\n",
        "      <td> 162.000000</td>\n",
        "      <td>  0.342000</td>\n",
        "      <td>  0.432500</td>\n",
        "    </tr>\n",
        "    <tr>\n",
        "      <th>75%</th>\n",
        "      <td> 1992.000000</td>\n",
        "      <td>  761.750000</td>\n",
        "      <td>  763.000000</td>\n",
        "      <td>  89.000000</td>\n",
        "      <td>   0.335000</td>\n",
        "      <td>   0.411750</td>\n",
        "      <td>   0.267000</td>\n",
        "      <td>   0.000000</td>\n",
        "      <td>   4.000000</td>\n",
        "      <td>   3.000000</td>\n",
        "      <td> 162.000000</td>\n",
        "      <td>  0.350000</td>\n",
        "      <td>  0.450750</td>\n",
        "    </tr>\n",
        "    <tr>\n",
        "      <th>max</th>\n",
        "      <td> 2001.000000</td>\n",
        "      <td> 1009.000000</td>\n",
        "      <td> 1103.000000</td>\n",
        "      <td> 116.000000</td>\n",
        "      <td>   0.373000</td>\n",
        "      <td>   0.485000</td>\n",
        "      <td>   0.294000</td>\n",
        "      <td>   1.000000</td>\n",
        "      <td>   8.000000</td>\n",
        "      <td>   4.000000</td>\n",
        "      <td> 165.000000</td>\n",
        "      <td>  0.384000</td>\n",
        "      <td>  0.499000</td>\n",
        "    </tr>\n",
        "  </tbody>\n",
        "</table>\n",
        "<p>8 rows \u00d7 13 columns</p>\n",
        "</div>"
       ],
       "metadata": {},
       "output_type": "pyout",
       "prompt_number": 9,
       "text": [
        "              Year           RS           RA           W         OBP  \\\n",
        "count   902.000000   902.000000   902.000000  902.000000  902.000000   \n",
        "mean   1982.356984   703.809313   703.809313   80.881375    0.324961   \n",
        "std      11.556504    93.314579    93.784100   11.403424    0.015391   \n",
        "min    1962.000000   463.000000   472.000000   40.000000    0.277000   \n",
        "25%    1973.000000   641.250000   640.000000   73.000000    0.314000   \n",
        "50%    1983.000000   695.000000   697.000000   81.000000    0.324000   \n",
        "75%    1992.000000   761.750000   763.000000   89.000000    0.335000   \n",
        "max    2001.000000  1009.000000  1103.000000  116.000000    0.373000   \n",
        "\n",
        "              SLG          BA    Playoffs  RankSeason  RankPlayoffs  \\\n",
        "count  902.000000  902.000000  902.000000  154.000000    154.000000   \n",
        "mean     0.390412    0.258153    0.170732    2.792208      2.454545   \n",
        "std      0.033110    0.013266    0.376483    1.557924      1.016793   \n",
        "min      0.301000    0.214000    0.000000    1.000000      1.000000   \n",
        "25%      0.368000    0.250000    0.000000    2.000000      2.000000   \n",
        "50%      0.388000    0.258000    0.000000    2.500000      3.000000   \n",
        "75%      0.411750    0.267000    0.000000    4.000000      3.000000   \n",
        "max      0.485000    0.294000    1.000000    8.000000      4.000000   \n",
        "\n",
        "                G       OOBP       OSLG  \n",
        "count  902.000000  90.000000  90.000000  \n",
        "mean   161.906874   0.340478   0.432500  \n",
        "std      0.702127   0.015416   0.025658  \n",
        "min    158.000000   0.301000   0.377000  \n",
        "25%    162.000000   0.329000   0.416000  \n",
        "50%    162.000000   0.342000   0.432500  \n",
        "75%    162.000000   0.350000   0.450750  \n",
        "max    165.000000   0.384000   0.499000  \n",
        "\n",
        "[8 rows x 13 columns]"
       ]
      }
     ],
     "prompt_number": 9
    },
    {
     "cell_type": "markdown",
     "metadata": {},
     "source": [
      "Creating a new varible for run difference"
     ]
    },
    {
     "cell_type": "code",
     "collapsed": false,
     "input": [
      "moneyball[\"RD\"] = moneyball[\"RS\"] - moneyball[\"RA\"]"
     ],
     "language": "python",
     "metadata": {},
     "outputs": [],
     "prompt_number": 10
    },
    {
     "cell_type": "markdown",
     "metadata": {},
     "source": [
      "Creating a linear regression on `Wins` on `RD`"
     ]
    },
    {
     "cell_type": "code",
     "collapsed": false,
     "input": [
      "WinsReg_model = sm.ols(\"W~RD\",moneyball)"
     ],
     "language": "python",
     "metadata": {},
     "outputs": [],
     "prompt_number": 11
    },
    {
     "cell_type": "markdown",
     "metadata": {},
     "source": [
      "Fitting the model"
     ]
    },
    {
     "cell_type": "code",
     "collapsed": false,
     "input": [
      "WinsReg = WinsReg_model.fit()"
     ],
     "language": "python",
     "metadata": {},
     "outputs": [],
     "prompt_number": 12
    },
    {
     "cell_type": "code",
     "collapsed": false,
     "input": [
      "WinsReg.summary()"
     ],
     "language": "python",
     "metadata": {},
     "outputs": [
      {
       "html": [
        "<table class=\"simpletable\">\n",
        "<caption>OLS Regression Results</caption>\n",
        "<tr>\n",
        "  <th>Dep. Variable:</th>            <td>W</td>        <th>  R-squared:         </th> <td>   0.881</td>\n",
        "</tr>\n",
        "<tr>\n",
        "  <th>Model:</th>                   <td>OLS</td>       <th>  Adj. R-squared:    </th> <td>   0.881</td>\n",
        "</tr>\n",
        "<tr>\n",
        "  <th>Method:</th>             <td>Least Squares</td>  <th>  F-statistic:       </th> <td>   6651.</td>\n",
        "</tr>\n",
        "<tr>\n",
        "  <th>Date:</th>             <td>Tue, 11 Mar 2014</td> <th>  Prob (F-statistic):</th>  <td>  0.00</td> \n",
        "</tr>\n",
        "<tr>\n",
        "  <th>Time:</th>                 <td>13:06:03</td>     <th>  Log-Likelihood:    </th> <td> -2515.5</td>\n",
        "</tr>\n",
        "<tr>\n",
        "  <th>No. Observations:</th>      <td>   902</td>      <th>  AIC:               </th> <td>   5035.</td>\n",
        "</tr>\n",
        "<tr>\n",
        "  <th>Df Residuals:</th>          <td>   900</td>      <th>  BIC:               </th> <td>   5045.</td>\n",
        "</tr>\n",
        "<tr>\n",
        "  <th>Df Model:</th>              <td>     1</td>      <th>                     </th>     <td> </td>   \n",
        "</tr>\n",
        "<tr>\n",
        "  <th>Covariance Type:</th>      <td>nonrobust</td>    <th>                     </th>     <td> </td>   \n",
        "</tr>\n",
        "</table>\n",
        "<table class=\"simpletable\">\n",
        "<tr>\n",
        "      <td></td>         <th>coef</th>     <th>std err</th>      <th>t</th>      <th>P>|t|</th> <th>[95.0% Conf. Int.]</th> \n",
        "</tr>\n",
        "<tr>\n",
        "  <th>Intercept</th> <td>   80.8814</td> <td>    0.131</td> <td>  616.675</td> <td> 0.000</td> <td>   80.624    81.139</td>\n",
        "</tr>\n",
        "<tr>\n",
        "  <th>RD</th>        <td>    0.1058</td> <td>    0.001</td> <td>   81.554</td> <td> 0.000</td> <td>    0.103     0.108</td>\n",
        "</tr>\n",
        "</table>\n",
        "<table class=\"simpletable\">\n",
        "<tr>\n",
        "  <th>Omnibus:</th>       <td> 5.788</td> <th>  Durbin-Watson:     </th> <td>   2.076</td>\n",
        "</tr>\n",
        "<tr>\n",
        "  <th>Prob(Omnibus):</th> <td> 0.055</td> <th>  Jarque-Bera (JB):  </th> <td>   5.736</td>\n",
        "</tr>\n",
        "<tr>\n",
        "  <th>Skew:</th>          <td>-0.195</td> <th>  Prob(JB):          </th> <td>  0.0568</td>\n",
        "</tr>\n",
        "<tr>\n",
        "  <th>Kurtosis:</th>      <td> 3.033</td> <th>  Cond. No.          </th> <td>    101.</td>\n",
        "</tr>\n",
        "</table>"
       ],
       "metadata": {},
       "output_type": "pyout",
       "prompt_number": 13,
       "text": [
        "<class 'statsmodels.iolib.summary.Summary'>\n",
        "\"\"\"\n",
        "                            OLS Regression Results                            \n",
        "==============================================================================\n",
        "Dep. Variable:                      W   R-squared:                       0.881\n",
        "Model:                            OLS   Adj. R-squared:                  0.881\n",
        "Method:                 Least Squares   F-statistic:                     6651.\n",
        "Date:                Tue, 11 Mar 2014   Prob (F-statistic):               0.00\n",
        "Time:                        13:06:03   Log-Likelihood:                -2515.5\n",
        "No. Observations:                 902   AIC:                             5035.\n",
        "Df Residuals:                     900   BIC:                             5045.\n",
        "Df Model:                           1                                         \n",
        "Covariance Type:            nonrobust                                         \n",
        "==============================================================================\n",
        "                 coef    std err          t      P>|t|      [95.0% Conf. Int.]\n",
        "------------------------------------------------------------------------------\n",
        "Intercept     80.8814      0.131    616.675      0.000        80.624    81.139\n",
        "RD             0.1058      0.001     81.554      0.000         0.103     0.108\n",
        "==============================================================================\n",
        "Omnibus:                        5.788   Durbin-Watson:                   2.076\n",
        "Prob(Omnibus):                  0.055   Jarque-Bera (JB):                5.736\n",
        "Skew:                          -0.195   Prob(JB):                       0.0568\n",
        "Kurtosis:                       3.033   Cond. No.                         101.\n",
        "==============================================================================\n",
        "\n",
        "Warnings:\n",
        "[1] Standard Errors assume that the covariance matrix of the errors is correctly specified.\n",
        "\"\"\""
       ]
      }
     ],
     "prompt_number": 13
    },
    {
     "cell_type": "markdown",
     "metadata": {},
     "source": [
      "Both `Intercept` and `RD` are significant"
     ]
    },
    {
     "cell_type": "markdown",
     "metadata": {},
     "source": [
      "Quick quiz question"
     ]
    },
    {
     "cell_type": "markdown",
     "metadata": {},
     "source": [
      "Need to evaluate: 80.8814 + 0.1058 (RD)"
     ]
    },
    {
     "cell_type": "code",
     "collapsed": false,
     "input": [
      "80.8814 + 0.1058*(713-614)"
     ],
     "language": "python",
     "metadata": {},
     "outputs": [
      {
       "metadata": {},
       "output_type": "pyout",
       "prompt_number": 17,
       "text": [
        "91.3556"
       ]
      }
     ],
     "prompt_number": 17
    },
    {
     "cell_type": "heading",
     "level": 3,
     "metadata": {},
     "source": [
      "Video 3"
     ]
    },
    {
     "cell_type": "code",
     "collapsed": false,
     "input": [
      "runs_reg_model = sm.ols(\"RS~OBP+SLG+BA\",moneyball)"
     ],
     "language": "python",
     "metadata": {},
     "outputs": [],
     "prompt_number": 18
    },
    {
     "cell_type": "code",
     "collapsed": false,
     "input": [
      "runs_reg = runs_reg_model.fit()"
     ],
     "language": "python",
     "metadata": {},
     "outputs": [],
     "prompt_number": 19
    },
    {
     "cell_type": "code",
     "collapsed": false,
     "input": [
      "runs_reg.summary()"
     ],
     "language": "python",
     "metadata": {},
     "outputs": [
      {
       "html": [
        "<table class=\"simpletable\">\n",
        "<caption>OLS Regression Results</caption>\n",
        "<tr>\n",
        "  <th>Dep. Variable:</th>           <td>RS</td>        <th>  R-squared:         </th> <td>   0.930</td>\n",
        "</tr>\n",
        "<tr>\n",
        "  <th>Model:</th>                   <td>OLS</td>       <th>  Adj. R-squared:    </th> <td>   0.930</td>\n",
        "</tr>\n",
        "<tr>\n",
        "  <th>Method:</th>             <td>Least Squares</td>  <th>  F-statistic:       </th> <td>   3989.</td>\n",
        "</tr>\n",
        "<tr>\n",
        "  <th>Date:</th>             <td>Tue, 11 Mar 2014</td> <th>  Prob (F-statistic):</th>  <td>  0.00</td> \n",
        "</tr>\n",
        "<tr>\n",
        "  <th>Time:</th>                 <td>13:13:22</td>     <th>  Log-Likelihood:    </th> <td> -4170.2</td>\n",
        "</tr>\n",
        "<tr>\n",
        "  <th>No. Observations:</th>      <td>   902</td>      <th>  AIC:               </th> <td>   8348.</td>\n",
        "</tr>\n",
        "<tr>\n",
        "  <th>Df Residuals:</th>          <td>   898</td>      <th>  BIC:               </th> <td>   8368.</td>\n",
        "</tr>\n",
        "<tr>\n",
        "  <th>Df Model:</th>              <td>     3</td>      <th>                     </th>     <td> </td>   \n",
        "</tr>\n",
        "<tr>\n",
        "  <th>Covariance Type:</th>      <td>nonrobust</td>    <th>                     </th>     <td> </td>   \n",
        "</tr>\n",
        "</table>\n",
        "<table class=\"simpletable\">\n",
        "<tr>\n",
        "      <td></td>         <th>coef</th>     <th>std err</th>      <th>t</th>      <th>P>|t|</th> <th>[95.0% Conf. Int.]</th> \n",
        "</tr>\n",
        "<tr>\n",
        "  <th>Intercept</th> <td> -788.4570</td> <td>   19.697</td> <td>  -40.029</td> <td> 0.000</td> <td> -827.115  -749.799</td>\n",
        "</tr>\n",
        "<tr>\n",
        "  <th>OBP</th>       <td> 2917.4214</td> <td>  110.466</td> <td>   26.410</td> <td> 0.000</td> <td> 2700.619  3134.224</td>\n",
        "</tr>\n",
        "<tr>\n",
        "  <th>SLG</th>       <td> 1637.9277</td> <td>   45.994</td> <td>   35.612</td> <td> 0.000</td> <td> 1547.659  1728.197</td>\n",
        "</tr>\n",
        "<tr>\n",
        "  <th>BA</th>        <td> -368.9661</td> <td>  130.580</td> <td>   -2.826</td> <td> 0.005</td> <td> -625.244  -112.688</td>\n",
        "</tr>\n",
        "</table>\n",
        "<table class=\"simpletable\">\n",
        "<tr>\n",
        "  <th>Omnibus:</th>       <td> 3.441</td> <th>  Durbin-Watson:     </th> <td>   1.943</td>\n",
        "</tr>\n",
        "<tr>\n",
        "  <th>Prob(Omnibus):</th> <td> 0.179</td> <th>  Jarque-Bera (JB):  </th> <td>   3.381</td>\n",
        "</tr>\n",
        "<tr>\n",
        "  <th>Skew:</th>          <td> 0.150</td> <th>  Prob(JB):          </th> <td>   0.184</td>\n",
        "</tr>\n",
        "<tr>\n",
        "  <th>Kurtosis:</th>      <td> 3.018</td> <th>  Cond. No.          </th> <td>    214.</td>\n",
        "</tr>\n",
        "</table>"
       ],
       "metadata": {},
       "output_type": "pyout",
       "prompt_number": 20,
       "text": [
        "<class 'statsmodels.iolib.summary.Summary'>\n",
        "\"\"\"\n",
        "                            OLS Regression Results                            \n",
        "==============================================================================\n",
        "Dep. Variable:                     RS   R-squared:                       0.930\n",
        "Model:                            OLS   Adj. R-squared:                  0.930\n",
        "Method:                 Least Squares   F-statistic:                     3989.\n",
        "Date:                Tue, 11 Mar 2014   Prob (F-statistic):               0.00\n",
        "Time:                        13:13:22   Log-Likelihood:                -4170.2\n",
        "No. Observations:                 902   AIC:                             8348.\n",
        "Df Residuals:                     898   BIC:                             8368.\n",
        "Df Model:                           3                                         \n",
        "Covariance Type:            nonrobust                                         \n",
        "==============================================================================\n",
        "                 coef    std err          t      P>|t|      [95.0% Conf. Int.]\n",
        "------------------------------------------------------------------------------\n",
        "Intercept   -788.4570     19.697    -40.029      0.000      -827.115  -749.799\n",
        "OBP         2917.4214    110.466     26.410      0.000      2700.619  3134.224\n",
        "SLG         1637.9277     45.994     35.612      0.000      1547.659  1728.197\n",
        "BA          -368.9661    130.580     -2.826      0.005      -625.244  -112.688\n",
        "==============================================================================\n",
        "Omnibus:                        3.441   Durbin-Watson:                   1.943\n",
        "Prob(Omnibus):                  0.179   Jarque-Bera (JB):                3.381\n",
        "Skew:                           0.150   Prob(JB):                        0.184\n",
        "Kurtosis:                       3.018   Cond. No.                         214.\n",
        "==============================================================================\n",
        "\n",
        "Warnings:\n",
        "[1] Standard Errors assume that the covariance matrix of the errors is correctly specified.\n",
        "\"\"\""
       ]
      }
     ],
     "prompt_number": 20
    },
    {
     "cell_type": "markdown",
     "metadata": {},
     "source": [
      "Rerunning regression equation without `BA`"
     ]
    },
    {
     "cell_type": "code",
     "collapsed": false,
     "input": [
      "runs_reg = sm.ols(\"RS~OBP+SLG\",moneyball).fit()"
     ],
     "language": "python",
     "metadata": {},
     "outputs": [],
     "prompt_number": 21
    },
    {
     "cell_type": "code",
     "collapsed": false,
     "input": [
      "runs_reg.summary()"
     ],
     "language": "python",
     "metadata": {},
     "outputs": [
      {
       "html": [
        "<table class=\"simpletable\">\n",
        "<caption>OLS Regression Results</caption>\n",
        "<tr>\n",
        "  <th>Dep. Variable:</th>           <td>RS</td>        <th>  R-squared:         </th> <td>   0.930</td>\n",
        "</tr>\n",
        "<tr>\n",
        "  <th>Model:</th>                   <td>OLS</td>       <th>  Adj. R-squared:    </th> <td>   0.929</td>\n",
        "</tr>\n",
        "<tr>\n",
        "  <th>Method:</th>             <td>Least Squares</td>  <th>  F-statistic:       </th> <td>   5934.</td>\n",
        "</tr>\n",
        "<tr>\n",
        "  <th>Date:</th>             <td>Tue, 11 Mar 2014</td> <th>  Prob (F-statistic):</th>  <td>  0.00</td> \n",
        "</tr>\n",
        "<tr>\n",
        "  <th>Time:</th>                 <td>13:14:43</td>     <th>  Log-Likelihood:    </th> <td> -4174.2</td>\n",
        "</tr>\n",
        "<tr>\n",
        "  <th>No. Observations:</th>      <td>   902</td>      <th>  AIC:               </th> <td>   8354.</td>\n",
        "</tr>\n",
        "<tr>\n",
        "  <th>Df Residuals:</th>          <td>   899</td>      <th>  BIC:               </th> <td>   8369.</td>\n",
        "</tr>\n",
        "<tr>\n",
        "  <th>Df Model:</th>              <td>     2</td>      <th>                     </th>     <td> </td>   \n",
        "</tr>\n",
        "<tr>\n",
        "  <th>Covariance Type:</th>      <td>nonrobust</td>    <th>                     </th>     <td> </td>   \n",
        "</tr>\n",
        "</table>\n",
        "<table class=\"simpletable\">\n",
        "<tr>\n",
        "      <td></td>         <th>coef</th>     <th>std err</th>      <th>t</th>      <th>P>|t|</th> <th>[95.0% Conf. Int.]</th> \n",
        "</tr>\n",
        "<tr>\n",
        "  <th>Intercept</th> <td> -804.6271</td> <td>   18.921</td> <td>  -42.526</td> <td> 0.000</td> <td> -841.761  -767.493</td>\n",
        "</tr>\n",
        "<tr>\n",
        "  <th>OBP</th>       <td> 2737.7680</td> <td>   90.685</td> <td>   30.190</td> <td> 0.000</td> <td> 2559.790  2915.746</td>\n",
        "</tr>\n",
        "<tr>\n",
        "  <th>SLG</th>       <td> 1584.9086</td> <td>   42.156</td> <td>   37.597</td> <td> 0.000</td> <td> 1502.174  1667.643</td>\n",
        "</tr>\n",
        "</table>\n",
        "<table class=\"simpletable\">\n",
        "<tr>\n",
        "  <th>Omnibus:</th>       <td> 3.099</td> <th>  Durbin-Watson:     </th> <td>   1.933</td>\n",
        "</tr>\n",
        "<tr>\n",
        "  <th>Prob(Omnibus):</th> <td> 0.212</td> <th>  Jarque-Bera (JB):  </th> <td>   3.106</td>\n",
        "</tr>\n",
        "<tr>\n",
        "  <th>Skew:</th>          <td> 0.143</td> <th>  Prob(JB):          </th> <td>   0.212</td>\n",
        "</tr>\n",
        "<tr>\n",
        "  <th>Kurtosis:</th>      <td> 2.972</td> <th>  Cond. No.          </th> <td>    134.</td>\n",
        "</tr>\n",
        "</table>"
       ],
       "metadata": {},
       "output_type": "pyout",
       "prompt_number": 22,
       "text": [
        "<class 'statsmodels.iolib.summary.Summary'>\n",
        "\"\"\"\n",
        "                            OLS Regression Results                            \n",
        "==============================================================================\n",
        "Dep. Variable:                     RS   R-squared:                       0.930\n",
        "Model:                            OLS   Adj. R-squared:                  0.929\n",
        "Method:                 Least Squares   F-statistic:                     5934.\n",
        "Date:                Tue, 11 Mar 2014   Prob (F-statistic):               0.00\n",
        "Time:                        13:14:43   Log-Likelihood:                -4174.2\n",
        "No. Observations:                 902   AIC:                             8354.\n",
        "Df Residuals:                     899   BIC:                             8369.\n",
        "Df Model:                           2                                         \n",
        "Covariance Type:            nonrobust                                         \n",
        "==============================================================================\n",
        "                 coef    std err          t      P>|t|      [95.0% Conf. Int.]\n",
        "------------------------------------------------------------------------------\n",
        "Intercept   -804.6271     18.921    -42.526      0.000      -841.761  -767.493\n",
        "OBP         2737.7680     90.685     30.190      0.000      2559.790  2915.746\n",
        "SLG         1584.9086     42.156     37.597      0.000      1502.174  1667.643\n",
        "==============================================================================\n",
        "Omnibus:                        3.099   Durbin-Watson:                   1.933\n",
        "Prob(Omnibus):                  0.212   Jarque-Bera (JB):                3.106\n",
        "Skew:                           0.143   Prob(JB):                        0.212\n",
        "Kurtosis:                       2.972   Cond. No.                         134.\n",
        "==============================================================================\n",
        "\n",
        "Warnings:\n",
        "[1] Standard Errors assume that the covariance matrix of the errors is correctly specified.\n",
        "\"\"\""
       ]
      }
     ],
     "prompt_number": 22
    },
    {
     "cell_type": "markdown",
     "metadata": {},
     "source": [
      "Similarly creating a model for `RA`"
     ]
    },
    {
     "cell_type": "code",
     "collapsed": false,
     "input": [
      "runs_allowed = sm.ols(\"RA~OOBP+OSLG\",moneyball).fit()"
     ],
     "language": "python",
     "metadata": {},
     "outputs": [],
     "prompt_number": 23
    },
    {
     "cell_type": "code",
     "collapsed": false,
     "input": [
      "runs_allowed.summary()"
     ],
     "language": "python",
     "metadata": {},
     "outputs": [
      {
       "html": [
        "<table class=\"simpletable\">\n",
        "<caption>OLS Regression Results</caption>\n",
        "<tr>\n",
        "  <th>Dep. Variable:</th>           <td>RA</td>        <th>  R-squared:         </th> <td>   0.907</td>\n",
        "</tr>\n",
        "<tr>\n",
        "  <th>Model:</th>                   <td>OLS</td>       <th>  Adj. R-squared:    </th> <td>   0.905</td>\n",
        "</tr>\n",
        "<tr>\n",
        "  <th>Method:</th>             <td>Least Squares</td>  <th>  F-statistic:       </th> <td>   425.8</td>\n",
        "</tr>\n",
        "<tr>\n",
        "  <th>Date:</th>             <td>Tue, 11 Mar 2014</td> <th>  Prob (F-statistic):</th> <td>1.16e-45</td>\n",
        "</tr>\n",
        "<tr>\n",
        "  <th>Time:</th>                 <td>13:19:10</td>     <th>  Log-Likelihood:    </th> <td> -418.27</td>\n",
        "</tr>\n",
        "<tr>\n",
        "  <th>No. Observations:</th>      <td>    90</td>      <th>  AIC:               </th> <td>   842.5</td>\n",
        "</tr>\n",
        "<tr>\n",
        "  <th>Df Residuals:</th>          <td>    87</td>      <th>  BIC:               </th> <td>   850.0</td>\n",
        "</tr>\n",
        "<tr>\n",
        "  <th>Df Model:</th>              <td>     2</td>      <th>                     </th>     <td> </td>   \n",
        "</tr>\n",
        "<tr>\n",
        "  <th>Covariance Type:</th>      <td>nonrobust</td>    <th>                     </th>     <td> </td>   \n",
        "</tr>\n",
        "</table>\n",
        "<table class=\"simpletable\">\n",
        "<tr>\n",
        "      <td></td>         <th>coef</th>     <th>std err</th>      <th>t</th>      <th>P>|t|</th> <th>[95.0% Conf. Int.]</th> \n",
        "</tr>\n",
        "<tr>\n",
        "  <th>Intercept</th> <td> -837.3779</td> <td>   60.255</td> <td>  -13.897</td> <td> 0.000</td> <td> -957.142  -717.614</td>\n",
        "</tr>\n",
        "<tr>\n",
        "  <th>OOBP</th>      <td> 2913.5995</td> <td>  291.971</td> <td>    9.979</td> <td> 0.000</td> <td> 2333.276  3493.923</td>\n",
        "</tr>\n",
        "<tr>\n",
        "  <th>OSLG</th>      <td> 1514.2860</td> <td>  175.428</td> <td>    8.632</td> <td> 0.000</td> <td> 1165.604  1862.968</td>\n",
        "</tr>\n",
        "</table>\n",
        "<table class=\"simpletable\">\n",
        "<tr>\n",
        "  <th>Omnibus:</th>       <td> 3.836</td> <th>  Durbin-Watson:     </th> <td>   2.160</td>\n",
        "</tr>\n",
        "<tr>\n",
        "  <th>Prob(Omnibus):</th> <td> 0.147</td> <th>  Jarque-Bera (JB):  </th> <td>   3.104</td>\n",
        "</tr>\n",
        "<tr>\n",
        "  <th>Skew:</th>          <td>-0.392</td> <th>  Prob(JB):          </th> <td>   0.212</td>\n",
        "</tr>\n",
        "<tr>\n",
        "  <th>Kurtosis:</th>      <td> 3.461</td> <th>  Cond. No.          </th> <td>    139.</td>\n",
        "</tr>\n",
        "</table>"
       ],
       "metadata": {},
       "output_type": "pyout",
       "prompt_number": 24,
       "text": [
        "<class 'statsmodels.iolib.summary.Summary'>\n",
        "\"\"\"\n",
        "                            OLS Regression Results                            \n",
        "==============================================================================\n",
        "Dep. Variable:                     RA   R-squared:                       0.907\n",
        "Model:                            OLS   Adj. R-squared:                  0.905\n",
        "Method:                 Least Squares   F-statistic:                     425.8\n",
        "Date:                Tue, 11 Mar 2014   Prob (F-statistic):           1.16e-45\n",
        "Time:                        13:19:10   Log-Likelihood:                -418.27\n",
        "No. Observations:                  90   AIC:                             842.5\n",
        "Df Residuals:                      87   BIC:                             850.0\n",
        "Df Model:                           2                                         \n",
        "Covariance Type:            nonrobust                                         \n",
        "==============================================================================\n",
        "                 coef    std err          t      P>|t|      [95.0% Conf. Int.]\n",
        "------------------------------------------------------------------------------\n",
        "Intercept   -837.3779     60.255    -13.897      0.000      -957.142  -717.614\n",
        "OOBP        2913.5995    291.971      9.979      0.000      2333.276  3493.923\n",
        "OSLG        1514.2860    175.428      8.632      0.000      1165.604  1862.968\n",
        "==============================================================================\n",
        "Omnibus:                        3.836   Durbin-Watson:                   2.160\n",
        "Prob(Omnibus):                  0.147   Jarque-Bera (JB):                3.104\n",
        "Skew:                          -0.392   Prob(JB):                        0.212\n",
        "Kurtosis:                       3.461   Cond. No.                         139.\n",
        "==============================================================================\n",
        "\n",
        "Warnings:\n",
        "[1] Standard Errors assume that the covariance matrix of the errors is correctly specified.\n",
        "\"\"\""
       ]
      }
     ],
     "prompt_number": 24
    },
    {
     "cell_type": "markdown",
     "metadata": {},
     "source": [
      "Quiz 3"
     ]
    },
    {
     "cell_type": "code",
     "collapsed": false,
     "input": [
      "runs_reg.predict(pd.DataFrame({'OBP':.311,'SLG':0.405}, index=[1]));"
     ],
     "language": "python",
     "metadata": {},
     "outputs": [],
     "prompt_number": 39
    },
    {
     "cell_type": "code",
     "collapsed": false,
     "input": [
      "runs_allowed.predict(pd.DataFrame({'OOBP':.297,'OSLG':0.370}, index=[1]));"
     ],
     "language": "python",
     "metadata": {},
     "outputs": [],
     "prompt_number": 38
    },
    {
     "cell_type": "markdown",
     "metadata": {},
     "source": [
      "Quick question 5"
     ]
    },
    {
     "cell_type": "code",
     "collapsed": false,
     "input": [
      "team_rank = pd.Series([1,2,3,3,4,4,4,4,5,5])"
     ],
     "language": "python",
     "metadata": {},
     "outputs": [],
     "prompt_number": 44
    },
    {
     "cell_type": "code",
     "collapsed": false,
     "input": [
      "team_rank"
     ],
     "language": "python",
     "metadata": {},
     "outputs": [
      {
       "metadata": {},
       "output_type": "pyout",
       "prompt_number": 45,
       "text": [
        "0    1\n",
        "1    2\n",
        "2    3\n",
        "3    3\n",
        "4    4\n",
        "5    4\n",
        "6    4\n",
        "7    4\n",
        "8    5\n",
        "9    5\n",
        "dtype: int64"
       ]
      }
     ],
     "prompt_number": 45
    },
    {
     "cell_type": "code",
     "collapsed": false,
     "input": [
      "wins_2012 = pd.Series([94,88,95,88,93,94,98,97,93,94])"
     ],
     "language": "python",
     "metadata": {},
     "outputs": [],
     "prompt_number": 46
    },
    {
     "cell_type": "code",
     "collapsed": false,
     "input": [
      "wins_2013 = pd.Series([97,97,92,93,92,96,94,96,92,90])"
     ],
     "language": "python",
     "metadata": {},
     "outputs": [],
     "prompt_number": 47
    },
    {
     "cell_type": "code",
     "collapsed": false,
     "input": [
      "team_rank.corr(wins_2012);"
     ],
     "language": "python",
     "metadata": {},
     "outputs": [],
     "prompt_number": 51
    },
    {
     "cell_type": "code",
     "collapsed": false,
     "input": [
      "team_rank.corr(wins_2013);"
     ],
     "language": "python",
     "metadata": {},
     "outputs": [],
     "prompt_number": 50
    },
    {
     "cell_type": "code",
     "collapsed": false,
     "input": [
      "from IPython.display import HTML\n",
      "import requests\n",
      "styles = requests.get(\"https://raw.github.com/CamDavidsonPilon/Probabilistic-Programming-and-Bayesian-Methods-for-Hackers/master/styles/custom.css\")\n",
      "HTML(styles.text)"
     ],
     "language": "python",
     "metadata": {},
     "outputs": [
      {
       "html": [
        "<style>\n",
        "    @font-face {\n",
        "        font-family: \"Computer Modern\";\n",
        "        src: url('http://9dbb143991406a7c655e-aa5fcb0a5a4ec34cff238a2d56ca4144.r56.cf5.rackcdn.com/cmunss.otf');\n",
        "    }\n",
        "    @font-face {\n",
        "        font-family: \"Computer Modern\";\n",
        "        font-weight: bold;\n",
        "        src: url('http://9dbb143991406a7c655e-aa5fcb0a5a4ec34cff238a2d56ca4144.r56.cf5.rackcdn.com/cmunsx.otf');\n",
        "    }\n",
        "    @font-face {\n",
        "        font-family: \"Computer Modern\";\n",
        "        font-style: oblique;\n",
        "        src: url('http://9dbb143991406a7c655e-aa5fcb0a5a4ec34cff238a2d56ca4144.r56.cf5.rackcdn.com/cmunsi.otf');\n",
        "    }\n",
        "    @font-face {\n",
        "        font-family: \"Computer Modern\";\n",
        "        font-weight: bold;\n",
        "        font-style: oblique;\n",
        "        src: url('http://9dbb143991406a7c655e-aa5fcb0a5a4ec34cff238a2d56ca4144.r56.cf5.rackcdn.com/cmunso.otf');\n",
        "    }\n",
        "    div.cell{\n",
        "        width:800px;\n",
        "        margin-left:16% !important;\n",
        "        margin-right:auto;\n",
        "    }\n",
        "    h1 {\n",
        "        font-family: Helvetica, serif;\n",
        "    }\n",
        "    h4{\n",
        "        margin-top:12px;\n",
        "        margin-bottom: 3px;\n",
        "       }\n",
        "    div.text_cell_render{\n",
        "        font-family: Computer Modern, \"Helvetica Neue\", Arial, Helvetica, Geneva, sans-serif;\n",
        "        line-height: 145%;\n",
        "        font-size: 130%;\n",
        "        width:800px;\n",
        "        margin-left:auto;\n",
        "        margin-right:auto;\n",
        "    }\n",
        "    .CodeMirror{\n",
        "            font-family: \"Source Code Pro\", source-code-pro,Consolas, monospace;\n",
        "    }\n",
        "    .prompt{\n",
        "        display: None;\n",
        "    }\n",
        "    .text_cell_render h5 {\n",
        "        font-weight: 300;\n",
        "        font-size: 22pt;\n",
        "        color: #4057A1;\n",
        "        font-style: italic;\n",
        "        margin-bottom: .5em;\n",
        "        margin-top: 0.5em;\n",
        "        display: block;\n",
        "    }\n",
        "    \n",
        "    .warning{\n",
        "        color: rgb( 240, 20, 20 )\n",
        "        }  \n",
        "</style>\n",
        "<script>\n",
        "    MathJax.Hub.Config({\n",
        "                        TeX: {\n",
        "                           extensions: [\"AMSmath.js\"]\n",
        "                           },\n",
        "                tex2jax: {\n",
        "                    inlineMath: [ ['$','$'], [\"\\\\(\",\"\\\\)\"] ],\n",
        "                    displayMath: [ ['$$','$$'], [\"\\\\[\",\"\\\\]\"] ]\n",
        "                },\n",
        "                displayAlign: 'center', // Change this to 'center' to center equations.\n",
        "                \"HTML-CSS\": {\n",
        "                    styles: {'.MathJax_Display': {\"margin\": 4}}\n",
        "                }\n",
        "        });\n",
        "</script>\n"
       ],
       "metadata": {},
       "output_type": "pyout",
       "prompt_number": 52,
       "text": [
        "<IPython.core.display.HTML at 0x4bd8510>"
       ]
      }
     ],
     "prompt_number": 52
    }
   ],
   "metadata": {}
  }
 ]
}