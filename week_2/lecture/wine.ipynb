{
 "metadata": {
  "name": ""
 },
 "nbformat": 3,
 "nbformat_minor": 0,
 "worksheets": [
  {
   "cells": [
    {
     "cell_type": "heading",
     "level": 3,
     "metadata": {},
     "source": [
      "Video 4"
     ]
    },
    {
     "cell_type": "code",
     "collapsed": false,
     "input": [
      "import pandas as pd"
     ],
     "language": "python",
     "metadata": {},
     "outputs": [],
     "prompt_number": 1
    },
    {
     "cell_type": "code",
     "collapsed": false,
     "input": [
      "!wget https://courses.edx.org/c4x/MITx/15.071x/asset/wine.csv"
     ],
     "language": "python",
     "metadata": {},
     "outputs": [
      {
       "output_type": "stream",
       "stream": "stdout",
       "text": [
        "--2014-03-11 12:01:23--  https://courses.edx.org/c4x/MITx/15.071x/asset/wine.csv\r\n",
        "Resolving courses.edx.org (courses.edx.org)... "
       ]
      },
      {
       "output_type": "stream",
       "stream": "stdout",
       "text": [
        "54.235.131.26, 107.21.117.248\r\n",
        "Connecting to courses.edx.org (courses.edx.org)|54.235.131.26|:443... "
       ]
      },
      {
       "output_type": "stream",
       "stream": "stdout",
       "text": [
        "connected.\r\n"
       ]
      },
      {
       "output_type": "stream",
       "stream": "stdout",
       "text": [
        "HTTP request sent, awaiting response... "
       ]
      },
      {
       "output_type": "stream",
       "stream": "stdout",
       "text": [
        "200 OK\r\n",
        "Length: 1040 (1.0K) [text/csv]\r\n",
        "Saving to: \u2018wine.csv\u2019\r\n",
        "\r\n",
        "\r",
        " 0% [                                       ] 0           --.-K/s              \r",
        "100%[======================================>] 1,040       --.-K/s   in 0s      \r\n",
        "\r\n",
        "2014-03-11 12:01:25 (295 MB/s) - \u2018wine.csv\u2019 saved [1040/1040]\r\n",
        "\r\n"
       ]
      }
     ],
     "prompt_number": 2
    },
    {
     "cell_type": "code",
     "collapsed": false,
     "input": [
      "!mv wine.csv ../data/ "
     ],
     "language": "python",
     "metadata": {},
     "outputs": [],
     "prompt_number": 3
    },
    {
     "cell_type": "code",
     "collapsed": false,
     "input": [
      "!wget https://courses.edx.org/c4x/MITx/15.071x/asset/wine_test.csv"
     ],
     "language": "python",
     "metadata": {},
     "outputs": [
      {
       "output_type": "stream",
       "stream": "stdout",
       "text": [
        "--2014-03-11 12:01:30--  https://courses.edx.org/c4x/MITx/15.071x/asset/wine_test.csv\r\n",
        "Resolving courses.edx.org (courses.edx.org)... "
       ]
      },
      {
       "output_type": "stream",
       "stream": "stdout",
       "text": [
        "54.235.131.26, 107.21.117.248\r\n",
        "Connecting to courses.edx.org (courses.edx.org)|54.235.131.26|:443... "
       ]
      },
      {
       "output_type": "stream",
       "stream": "stdout",
       "text": [
        "connected.\r\n"
       ]
      },
      {
       "output_type": "stream",
       "stream": "stdout",
       "text": [
        "HTTP request sent, awaiting response... "
       ]
      },
      {
       "output_type": "stream",
       "stream": "stdout",
       "text": [
        "200 OK\r\n",
        "Length: 130 [text/csv]\r\n",
        "Saving to: \u2018wine_test.csv\u2019\r\n",
        "\r\n",
        "\r",
        " 0% [                                       ] 0           --.-K/s              \r",
        "100%[======================================>] 130         --.-K/s   in 0s      \r\n",
        "\r\n",
        "2014-03-11 12:01:32 (45.3 MB/s) - \u2018wine_test.csv\u2019 saved [130/130]\r\n",
        "\r\n"
       ]
      }
     ],
     "prompt_number": 4
    },
    {
     "cell_type": "code",
     "collapsed": false,
     "input": [
      "!mv wine_test.csv ../data/"
     ],
     "language": "python",
     "metadata": {},
     "outputs": [],
     "prompt_number": 5
    },
    {
     "cell_type": "code",
     "collapsed": false,
     "input": [
      "wine =pd.read_csv(\"../data/wine.csv\")"
     ],
     "language": "python",
     "metadata": {},
     "outputs": [],
     "prompt_number": 7
    },
    {
     "cell_type": "code",
     "collapsed": false,
     "input": [
      "wine.describe()"
     ],
     "language": "python",
     "metadata": {},
     "outputs": [
      {
       "html": [
        "<div style=\"max-height:1000px;max-width:1500px;overflow:auto;\">\n",
        "<table border=\"1\" class=\"dataframe\">\n",
        "  <thead>\n",
        "    <tr style=\"text-align: right;\">\n",
        "      <th></th>\n",
        "      <th>Year</th>\n",
        "      <th>Price</th>\n",
        "      <th>WinterRain</th>\n",
        "      <th>AGST</th>\n",
        "      <th>HarvestRain</th>\n",
        "      <th>Age</th>\n",
        "      <th>FrancePop</th>\n",
        "    </tr>\n",
        "  </thead>\n",
        "  <tbody>\n",
        "    <tr>\n",
        "      <th>count</th>\n",
        "      <td>   25.000000</td>\n",
        "      <td> 25.000000</td>\n",
        "      <td>  25.000000</td>\n",
        "      <td> 25.000000</td>\n",
        "      <td>  25.000000</td>\n",
        "      <td> 25.000000</td>\n",
        "      <td>    25.000000</td>\n",
        "    </tr>\n",
        "    <tr>\n",
        "      <th>mean</th>\n",
        "      <td> 1965.800000</td>\n",
        "      <td>  7.067224</td>\n",
        "      <td> 605.280000</td>\n",
        "      <td> 16.509336</td>\n",
        "      <td> 148.560000</td>\n",
        "      <td> 17.200000</td>\n",
        "      <td> 49694.436760</td>\n",
        "    </tr>\n",
        "    <tr>\n",
        "      <th>std</th>\n",
        "      <td>    7.691987</td>\n",
        "      <td>  0.650341</td>\n",
        "      <td> 132.277965</td>\n",
        "      <td>  0.675397</td>\n",
        "      <td>  74.419464</td>\n",
        "      <td>  7.691987</td>\n",
        "      <td>  3665.270243</td>\n",
        "    </tr>\n",
        "    <tr>\n",
        "      <th>min</th>\n",
        "      <td> 1952.000000</td>\n",
        "      <td>  6.204900</td>\n",
        "      <td> 376.000000</td>\n",
        "      <td> 14.983300</td>\n",
        "      <td>  38.000000</td>\n",
        "      <td>  5.000000</td>\n",
        "      <td> 43183.569000</td>\n",
        "    </tr>\n",
        "    <tr>\n",
        "      <th>25%</th>\n",
        "      <td> 1960.000000</td>\n",
        "      <td>  6.518800</td>\n",
        "      <td> 536.000000</td>\n",
        "      <td> 16.200000</td>\n",
        "      <td>  89.000000</td>\n",
        "      <td> 11.000000</td>\n",
        "      <td> 46583.995000</td>\n",
        "    </tr>\n",
        "    <tr>\n",
        "      <th>50%</th>\n",
        "      <td> 1966.000000</td>\n",
        "      <td>  7.121100</td>\n",
        "      <td> 600.000000</td>\n",
        "      <td> 16.533300</td>\n",
        "      <td> 130.000000</td>\n",
        "      <td> 17.000000</td>\n",
        "      <td> 50254.966000</td>\n",
        "    </tr>\n",
        "    <tr>\n",
        "      <th>75%</th>\n",
        "      <td> 1972.000000</td>\n",
        "      <td>  7.495000</td>\n",
        "      <td> 697.000000</td>\n",
        "      <td> 17.066700</td>\n",
        "      <td> 187.000000</td>\n",
        "      <td> 23.000000</td>\n",
        "      <td> 52894.183000</td>\n",
        "    </tr>\n",
        "    <tr>\n",
        "      <th>max</th>\n",
        "      <td> 1978.000000</td>\n",
        "      <td>  8.493700</td>\n",
        "      <td> 830.000000</td>\n",
        "      <td> 17.650000</td>\n",
        "      <td> 292.000000</td>\n",
        "      <td> 31.000000</td>\n",
        "      <td> 54602.193000</td>\n",
        "    </tr>\n",
        "  </tbody>\n",
        "</table>\n",
        "<p>8 rows \u00d7 7 columns</p>\n",
        "</div>"
       ],
       "metadata": {},
       "output_type": "pyout",
       "prompt_number": 8,
       "text": [
        "              Year      Price  WinterRain       AGST  HarvestRain        Age  \\\n",
        "count    25.000000  25.000000   25.000000  25.000000    25.000000  25.000000   \n",
        "mean   1965.800000   7.067224  605.280000  16.509336   148.560000  17.200000   \n",
        "std       7.691987   0.650341  132.277965   0.675397    74.419464   7.691987   \n",
        "min    1952.000000   6.204900  376.000000  14.983300    38.000000   5.000000   \n",
        "25%    1960.000000   6.518800  536.000000  16.200000    89.000000  11.000000   \n",
        "50%    1966.000000   7.121100  600.000000  16.533300   130.000000  17.000000   \n",
        "75%    1972.000000   7.495000  697.000000  17.066700   187.000000  23.000000   \n",
        "max    1978.000000   8.493700  830.000000  17.650000   292.000000  31.000000   \n",
        "\n",
        "          FrancePop  \n",
        "count     25.000000  \n",
        "mean   49694.436760  \n",
        "std     3665.270243  \n",
        "min    43183.569000  \n",
        "25%    46583.995000  \n",
        "50%    50254.966000  \n",
        "75%    52894.183000  \n",
        "max    54602.193000  \n",
        "\n",
        "[8 rows x 7 columns]"
       ]
      }
     ],
     "prompt_number": 8
    },
    {
     "cell_type": "code",
     "collapsed": false,
     "input": [
      "wine"
     ],
     "language": "python",
     "metadata": {},
     "outputs": [
      {
       "html": [
        "<div style=\"max-height:1000px;max-width:1500px;overflow:auto;\">\n",
        "<table border=\"1\" class=\"dataframe\">\n",
        "  <thead>\n",
        "    <tr style=\"text-align: right;\">\n",
        "      <th></th>\n",
        "      <th>Year</th>\n",
        "      <th>Price</th>\n",
        "      <th>WinterRain</th>\n",
        "      <th>AGST</th>\n",
        "      <th>HarvestRain</th>\n",
        "      <th>Age</th>\n",
        "      <th>FrancePop</th>\n",
        "    </tr>\n",
        "  </thead>\n",
        "  <tbody>\n",
        "    <tr>\n",
        "      <th>0 </th>\n",
        "      <td> 1952</td>\n",
        "      <td> 7.4950</td>\n",
        "      <td> 600</td>\n",
        "      <td> 17.1167</td>\n",
        "      <td> 160</td>\n",
        "      <td> 31</td>\n",
        "      <td> 43183.569</td>\n",
        "    </tr>\n",
        "    <tr>\n",
        "      <th>1 </th>\n",
        "      <td> 1953</td>\n",
        "      <td> 8.0393</td>\n",
        "      <td> 690</td>\n",
        "      <td> 16.7333</td>\n",
        "      <td>  80</td>\n",
        "      <td> 30</td>\n",
        "      <td> 43495.030</td>\n",
        "    </tr>\n",
        "    <tr>\n",
        "      <th>2 </th>\n",
        "      <td> 1955</td>\n",
        "      <td> 7.6858</td>\n",
        "      <td> 502</td>\n",
        "      <td> 17.1500</td>\n",
        "      <td> 130</td>\n",
        "      <td> 28</td>\n",
        "      <td> 44217.857</td>\n",
        "    </tr>\n",
        "    <tr>\n",
        "      <th>3 </th>\n",
        "      <td> 1957</td>\n",
        "      <td> 6.9845</td>\n",
        "      <td> 420</td>\n",
        "      <td> 16.1333</td>\n",
        "      <td> 110</td>\n",
        "      <td> 26</td>\n",
        "      <td> 45152.252</td>\n",
        "    </tr>\n",
        "    <tr>\n",
        "      <th>4 </th>\n",
        "      <td> 1958</td>\n",
        "      <td> 6.7772</td>\n",
        "      <td> 582</td>\n",
        "      <td> 16.4167</td>\n",
        "      <td> 187</td>\n",
        "      <td> 25</td>\n",
        "      <td> 45653.805</td>\n",
        "    </tr>\n",
        "    <tr>\n",
        "      <th>5 </th>\n",
        "      <td> 1959</td>\n",
        "      <td> 8.0757</td>\n",
        "      <td> 485</td>\n",
        "      <td> 17.4833</td>\n",
        "      <td> 187</td>\n",
        "      <td> 24</td>\n",
        "      <td> 46128.638</td>\n",
        "    </tr>\n",
        "    <tr>\n",
        "      <th>6 </th>\n",
        "      <td> 1960</td>\n",
        "      <td> 6.5188</td>\n",
        "      <td> 763</td>\n",
        "      <td> 16.4167</td>\n",
        "      <td> 290</td>\n",
        "      <td> 23</td>\n",
        "      <td> 46583.995</td>\n",
        "    </tr>\n",
        "    <tr>\n",
        "      <th>7 </th>\n",
        "      <td> 1961</td>\n",
        "      <td> 8.4937</td>\n",
        "      <td> 830</td>\n",
        "      <td> 17.3333</td>\n",
        "      <td>  38</td>\n",
        "      <td> 22</td>\n",
        "      <td> 47128.005</td>\n",
        "    </tr>\n",
        "    <tr>\n",
        "      <th>8 </th>\n",
        "      <td> 1962</td>\n",
        "      <td> 7.3880</td>\n",
        "      <td> 697</td>\n",
        "      <td> 16.3000</td>\n",
        "      <td>  52</td>\n",
        "      <td> 21</td>\n",
        "      <td> 48088.673</td>\n",
        "    </tr>\n",
        "    <tr>\n",
        "      <th>9 </th>\n",
        "      <td> 1963</td>\n",
        "      <td> 6.7127</td>\n",
        "      <td> 608</td>\n",
        "      <td> 15.7167</td>\n",
        "      <td> 155</td>\n",
        "      <td> 20</td>\n",
        "      <td> 48798.990</td>\n",
        "    </tr>\n",
        "    <tr>\n",
        "      <th>10</th>\n",
        "      <td> 1964</td>\n",
        "      <td> 7.3094</td>\n",
        "      <td> 402</td>\n",
        "      <td> 17.2667</td>\n",
        "      <td>  96</td>\n",
        "      <td> 19</td>\n",
        "      <td> 49356.943</td>\n",
        "    </tr>\n",
        "    <tr>\n",
        "      <th>11</th>\n",
        "      <td> 1965</td>\n",
        "      <td> 6.2518</td>\n",
        "      <td> 602</td>\n",
        "      <td> 15.3667</td>\n",
        "      <td> 267</td>\n",
        "      <td> 18</td>\n",
        "      <td> 49801.821</td>\n",
        "    </tr>\n",
        "    <tr>\n",
        "      <th>12</th>\n",
        "      <td> 1966</td>\n",
        "      <td> 7.7443</td>\n",
        "      <td> 819</td>\n",
        "      <td> 16.5333</td>\n",
        "      <td>  86</td>\n",
        "      <td> 17</td>\n",
        "      <td> 50254.966</td>\n",
        "    </tr>\n",
        "    <tr>\n",
        "      <th>13</th>\n",
        "      <td> 1967</td>\n",
        "      <td> 6.8398</td>\n",
        "      <td> 714</td>\n",
        "      <td> 16.2333</td>\n",
        "      <td> 118</td>\n",
        "      <td> 16</td>\n",
        "      <td> 50650.406</td>\n",
        "    </tr>\n",
        "    <tr>\n",
        "      <th>14</th>\n",
        "      <td> 1968</td>\n",
        "      <td> 6.2435</td>\n",
        "      <td> 610</td>\n",
        "      <td> 16.2000</td>\n",
        "      <td> 292</td>\n",
        "      <td> 15</td>\n",
        "      <td> 51034.413</td>\n",
        "    </tr>\n",
        "    <tr>\n",
        "      <th>15</th>\n",
        "      <td> 1969</td>\n",
        "      <td> 6.3459</td>\n",
        "      <td> 575</td>\n",
        "      <td> 16.5500</td>\n",
        "      <td> 244</td>\n",
        "      <td> 14</td>\n",
        "      <td> 51470.276</td>\n",
        "    </tr>\n",
        "    <tr>\n",
        "      <th>16</th>\n",
        "      <td> 1970</td>\n",
        "      <td> 7.5883</td>\n",
        "      <td> 622</td>\n",
        "      <td> 16.6667</td>\n",
        "      <td>  89</td>\n",
        "      <td> 13</td>\n",
        "      <td> 51918.389</td>\n",
        "    </tr>\n",
        "    <tr>\n",
        "      <th>17</th>\n",
        "      <td> 1971</td>\n",
        "      <td> 7.1934</td>\n",
        "      <td> 551</td>\n",
        "      <td> 16.7667</td>\n",
        "      <td> 112</td>\n",
        "      <td> 12</td>\n",
        "      <td> 52431.647</td>\n",
        "    </tr>\n",
        "    <tr>\n",
        "      <th>18</th>\n",
        "      <td> 1972</td>\n",
        "      <td> 6.2049</td>\n",
        "      <td> 536</td>\n",
        "      <td> 14.9833</td>\n",
        "      <td> 158</td>\n",
        "      <td> 11</td>\n",
        "      <td> 52894.183</td>\n",
        "    </tr>\n",
        "    <tr>\n",
        "      <th>19</th>\n",
        "      <td> 1973</td>\n",
        "      <td> 6.6367</td>\n",
        "      <td> 376</td>\n",
        "      <td> 17.0667</td>\n",
        "      <td> 123</td>\n",
        "      <td> 10</td>\n",
        "      <td> 53332.805</td>\n",
        "    </tr>\n",
        "    <tr>\n",
        "      <th>20</th>\n",
        "      <td> 1974</td>\n",
        "      <td> 6.2941</td>\n",
        "      <td> 574</td>\n",
        "      <td> 16.3000</td>\n",
        "      <td> 184</td>\n",
        "      <td>  9</td>\n",
        "      <td> 53689.610</td>\n",
        "    </tr>\n",
        "    <tr>\n",
        "      <th>21</th>\n",
        "      <td> 1975</td>\n",
        "      <td> 7.2920</td>\n",
        "      <td> 572</td>\n",
        "      <td> 16.9500</td>\n",
        "      <td> 171</td>\n",
        "      <td>  8</td>\n",
        "      <td> 53955.042</td>\n",
        "    </tr>\n",
        "    <tr>\n",
        "      <th>22</th>\n",
        "      <td> 1976</td>\n",
        "      <td> 7.1211</td>\n",
        "      <td> 418</td>\n",
        "      <td> 17.6500</td>\n",
        "      <td> 247</td>\n",
        "      <td>  7</td>\n",
        "      <td> 54159.049</td>\n",
        "    </tr>\n",
        "    <tr>\n",
        "      <th>23</th>\n",
        "      <td> 1977</td>\n",
        "      <td> 6.2587</td>\n",
        "      <td> 821</td>\n",
        "      <td> 15.5833</td>\n",
        "      <td>  87</td>\n",
        "      <td>  6</td>\n",
        "      <td> 54378.362</td>\n",
        "    </tr>\n",
        "    <tr>\n",
        "      <th>24</th>\n",
        "      <td> 1978</td>\n",
        "      <td> 7.1860</td>\n",
        "      <td> 763</td>\n",
        "      <td> 15.8167</td>\n",
        "      <td>  51</td>\n",
        "      <td>  5</td>\n",
        "      <td> 54602.193</td>\n",
        "    </tr>\n",
        "  </tbody>\n",
        "</table>\n",
        "<p>25 rows \u00d7 7 columns</p>\n",
        "</div>"
       ],
       "metadata": {},
       "output_type": "pyout",
       "prompt_number": 9,
       "text": [
        "    Year   Price  WinterRain     AGST  HarvestRain  Age  FrancePop\n",
        "0   1952  7.4950         600  17.1167          160   31  43183.569\n",
        "1   1953  8.0393         690  16.7333           80   30  43495.030\n",
        "2   1955  7.6858         502  17.1500          130   28  44217.857\n",
        "3   1957  6.9845         420  16.1333          110   26  45152.252\n",
        "4   1958  6.7772         582  16.4167          187   25  45653.805\n",
        "5   1959  8.0757         485  17.4833          187   24  46128.638\n",
        "6   1960  6.5188         763  16.4167          290   23  46583.995\n",
        "7   1961  8.4937         830  17.3333           38   22  47128.005\n",
        "8   1962  7.3880         697  16.3000           52   21  48088.673\n",
        "9   1963  6.7127         608  15.7167          155   20  48798.990\n",
        "10  1964  7.3094         402  17.2667           96   19  49356.943\n",
        "11  1965  6.2518         602  15.3667          267   18  49801.821\n",
        "12  1966  7.7443         819  16.5333           86   17  50254.966\n",
        "13  1967  6.8398         714  16.2333          118   16  50650.406\n",
        "14  1968  6.2435         610  16.2000          292   15  51034.413\n",
        "15  1969  6.3459         575  16.5500          244   14  51470.276\n",
        "16  1970  7.5883         622  16.6667           89   13  51918.389\n",
        "17  1971  7.1934         551  16.7667          112   12  52431.647\n",
        "18  1972  6.2049         536  14.9833          158   11  52894.183\n",
        "19  1973  6.6367         376  17.0667          123   10  53332.805\n",
        "20  1974  6.2941         574  16.3000          184    9  53689.610\n",
        "21  1975  7.2920         572  16.9500          171    8  53955.042\n",
        "22  1976  7.1211         418  17.6500          247    7  54159.049\n",
        "23  1977  6.2587         821  15.5833           87    6  54378.362\n",
        "24  1978  7.1860         763  15.8167           51    5  54602.193\n",
        "\n",
        "[25 rows x 7 columns]"
       ]
      }
     ],
     "prompt_number": 9
    },
    {
     "cell_type": "markdown",
     "metadata": {},
     "source": [
      "Building first model"
     ]
    },
    {
     "cell_type": "code",
     "collapsed": false,
     "input": [
      "import statsmodels.formula.api as sm"
     ],
     "language": "python",
     "metadata": {},
     "outputs": [],
     "prompt_number": 10
    },
    {
     "cell_type": "code",
     "collapsed": false,
     "input": [
      "model1= sm.ols(formula='Price ~ AGST', data=wine)"
     ],
     "language": "python",
     "metadata": {},
     "outputs": [],
     "prompt_number": 11
    },
    {
     "cell_type": "code",
     "collapsed": false,
     "input": [
      "model1"
     ],
     "language": "python",
     "metadata": {},
     "outputs": [
      {
       "metadata": {},
       "output_type": "pyout",
       "prompt_number": 12,
       "text": [
        "<statsmodels.regression.linear_model.OLS at 0x39cc710>"
       ]
      }
     ],
     "prompt_number": 12
    },
    {
     "cell_type": "code",
     "collapsed": false,
     "input": [
      "model1_fit = model1.fit()"
     ],
     "language": "python",
     "metadata": {},
     "outputs": [],
     "prompt_number": 13
    },
    {
     "cell_type": "code",
     "collapsed": false,
     "input": [
      "model1_fit.summary()"
     ],
     "language": "python",
     "metadata": {},
     "outputs": [
      {
       "html": [
        "<table class=\"simpletable\">\n",
        "<caption>OLS Regression Results</caption>\n",
        "<tr>\n",
        "  <th>Dep. Variable:</th>          <td>Price</td>      <th>  R-squared:         </th> <td>   0.435</td>\n",
        "</tr>\n",
        "<tr>\n",
        "  <th>Model:</th>                   <td>OLS</td>       <th>  Adj. R-squared:    </th> <td>   0.410</td>\n",
        "</tr>\n",
        "<tr>\n",
        "  <th>Method:</th>             <td>Least Squares</td>  <th>  F-statistic:       </th> <td>   17.71</td>\n",
        "</tr>\n",
        "<tr>\n",
        "  <th>Date:</th>             <td>Tue, 11 Mar 2014</td> <th>  Prob (F-statistic):</th> <td>0.000335</td>\n",
        "</tr>\n",
        "<tr>\n",
        "  <th>Time:</th>                 <td>12:01:50</td>     <th>  Log-Likelihood:    </th> <td> -17.070</td>\n",
        "</tr>\n",
        "<tr>\n",
        "  <th>No. Observations:</th>      <td>    25</td>      <th>  AIC:               </th> <td>   38.14</td>\n",
        "</tr>\n",
        "<tr>\n",
        "  <th>Df Residuals:</th>          <td>    23</td>      <th>  BIC:               </th> <td>   40.58</td>\n",
        "</tr>\n",
        "<tr>\n",
        "  <th>Df Model:</th>              <td>     1</td>      <th>                     </th>     <td> </td>   \n",
        "</tr>\n",
        "<tr>\n",
        "  <th>Covariance Type:</th>      <td>nonrobust</td>    <th>                     </th>     <td> </td>   \n",
        "</tr>\n",
        "</table>\n",
        "<table class=\"simpletable\">\n",
        "<tr>\n",
        "      <td></td>         <th>coef</th>     <th>std err</th>      <th>t</th>      <th>P>|t|</th> <th>[95.0% Conf. Int.]</th> \n",
        "</tr>\n",
        "<tr>\n",
        "  <th>Intercept</th> <td>   -3.4178</td> <td>    2.494</td> <td>   -1.371</td> <td> 0.184</td> <td>   -8.576     1.740</td>\n",
        "</tr>\n",
        "<tr>\n",
        "  <th>AGST</th>      <td>    0.6351</td> <td>    0.151</td> <td>    4.208</td> <td> 0.000</td> <td>    0.323     0.947</td>\n",
        "</tr>\n",
        "</table>\n",
        "<table class=\"simpletable\">\n",
        "<tr>\n",
        "  <th>Omnibus:</th>       <td> 0.986</td> <th>  Durbin-Watson:     </th> <td>   1.758</td>\n",
        "</tr>\n",
        "<tr>\n",
        "  <th>Prob(Omnibus):</th> <td> 0.611</td> <th>  Jarque-Bera (JB):  </th> <td>   0.790</td>\n",
        "</tr>\n",
        "<tr>\n",
        "  <th>Skew:</th>          <td> 0.055</td> <th>  Prob(JB):          </th> <td>   0.674</td>\n",
        "</tr>\n",
        "<tr>\n",
        "  <th>Kurtosis:</th>      <td> 2.136</td> <th>  Cond. No.          </th> <td>    414.</td>\n",
        "</tr>\n",
        "</table>"
       ],
       "metadata": {},
       "output_type": "pyout",
       "prompt_number": 14,
       "text": [
        "<class 'statsmodels.iolib.summary.Summary'>\n",
        "\"\"\"\n",
        "                            OLS Regression Results                            \n",
        "==============================================================================\n",
        "Dep. Variable:                  Price   R-squared:                       0.435\n",
        "Model:                            OLS   Adj. R-squared:                  0.410\n",
        "Method:                 Least Squares   F-statistic:                     17.71\n",
        "Date:                Tue, 11 Mar 2014   Prob (F-statistic):           0.000335\n",
        "Time:                        12:01:50   Log-Likelihood:                -17.070\n",
        "No. Observations:                  25   AIC:                             38.14\n",
        "Df Residuals:                      23   BIC:                             40.58\n",
        "Df Model:                           1                                         \n",
        "Covariance Type:            nonrobust                                         \n",
        "==============================================================================\n",
        "                 coef    std err          t      P>|t|      [95.0% Conf. Int.]\n",
        "------------------------------------------------------------------------------\n",
        "Intercept     -3.4178      2.494     -1.371      0.184        -8.576     1.740\n",
        "AGST           0.6351      0.151      4.208      0.000         0.323     0.947\n",
        "==============================================================================\n",
        "Omnibus:                        0.986   Durbin-Watson:                   1.758\n",
        "Prob(Omnibus):                  0.611   Jarque-Bera (JB):                0.790\n",
        "Skew:                           0.055   Prob(JB):                        0.674\n",
        "Kurtosis:                       2.136   Cond. No.                         414.\n",
        "==============================================================================\n",
        "\n",
        "Warnings:\n",
        "[1] Standard Errors assume that the covariance matrix of the errors is correctly specified.\n",
        "\"\"\""
       ]
      }
     ],
     "prompt_number": 14
    },
    {
     "cell_type": "markdown",
     "metadata": {},
     "source": [
      "Finding the residuals"
     ]
    },
    {
     "cell_type": "code",
     "collapsed": false,
     "input": [
      "model1_fit.resid"
     ],
     "language": "python",
     "metadata": {},
     "outputs": [
      {
       "metadata": {},
       "output_type": "pyout",
       "prompt_number": 15,
       "text": [
        "0     0.042043\n",
        "1     0.829838\n",
        "2     0.211694\n",
        "3     0.156094\n",
        "4    -0.231191\n",
        "5     0.389917\n",
        "6    -0.489591\n",
        "7     0.903181\n",
        "8     0.453724\n",
        "9     0.148875\n",
        "10   -0.238822\n",
        "11   -0.089742\n",
        "12    0.661857\n",
        "13   -0.052115\n",
        "14   -0.627266\n",
        "15   -0.747149\n",
        "16    0.421135\n",
        "17   -0.037274\n",
        "18    0.106853\n",
        "19   -0.784503\n",
        "20   -0.640176\n",
        "21   -0.055087\n",
        "22   -0.670553\n",
        "23   -0.220404\n",
        "24    0.558665\n",
        "dtype: float64"
       ]
      }
     ],
     "prompt_number": 15
    },
    {
     "cell_type": "markdown",
     "metadata": {},
     "source": [
      "Finding sum of squared error"
     ]
    },
    {
     "cell_type": "code",
     "collapsed": false,
     "input": [
      "sse = (model1_fit.resid*model1_fit.resid).sum()"
     ],
     "language": "python",
     "metadata": {},
     "outputs": [],
     "prompt_number": 16
    },
    {
     "cell_type": "code",
     "collapsed": false,
     "input": [
      "sse"
     ],
     "language": "python",
     "metadata": {},
     "outputs": [
      {
       "metadata": {},
       "output_type": "pyout",
       "prompt_number": 17,
       "text": [
        "5.7348751470201211"
       ]
      }
     ],
     "prompt_number": 17
    },
    {
     "cell_type": "markdown",
     "metadata": {},
     "source": [
      "Adding more variables to the linear model"
     ]
    },
    {
     "cell_type": "code",
     "collapsed": false,
     "input": [
      "model2 = sm.ols(formula='Price ~ AGST+HarvestRain', data=wine)"
     ],
     "language": "python",
     "metadata": {},
     "outputs": [],
     "prompt_number": 18
    },
    {
     "cell_type": "code",
     "collapsed": false,
     "input": [
      "model2_fit = model2.fit()"
     ],
     "language": "python",
     "metadata": {},
     "outputs": [],
     "prompt_number": 19
    },
    {
     "cell_type": "code",
     "collapsed": false,
     "input": [
      "model2_fit.summary()"
     ],
     "language": "python",
     "metadata": {},
     "outputs": [
      {
       "html": [
        "<table class=\"simpletable\">\n",
        "<caption>OLS Regression Results</caption>\n",
        "<tr>\n",
        "  <th>Dep. Variable:</th>          <td>Price</td>      <th>  R-squared:         </th> <td>   0.707</td>\n",
        "</tr>\n",
        "<tr>\n",
        "  <th>Model:</th>                   <td>OLS</td>       <th>  Adj. R-squared:    </th> <td>   0.681</td>\n",
        "</tr>\n",
        "<tr>\n",
        "  <th>Method:</th>             <td>Least Squares</td>  <th>  F-statistic:       </th> <td>   26.59</td>\n",
        "</tr>\n",
        "<tr>\n",
        "  <th>Date:</th>             <td>Tue, 11 Mar 2014</td> <th>  Prob (F-statistic):</th> <td>1.35e-06</td>\n",
        "</tr>\n",
        "<tr>\n",
        "  <th>Time:</th>                 <td>12:01:54</td>     <th>  Log-Likelihood:    </th> <td> -8.8461</td>\n",
        "</tr>\n",
        "<tr>\n",
        "  <th>No. Observations:</th>      <td>    25</td>      <th>  AIC:               </th> <td>   23.69</td>\n",
        "</tr>\n",
        "<tr>\n",
        "  <th>Df Residuals:</th>          <td>    22</td>      <th>  BIC:               </th> <td>   27.35</td>\n",
        "</tr>\n",
        "<tr>\n",
        "  <th>Df Model:</th>              <td>     2</td>      <th>                     </th>     <td> </td>   \n",
        "</tr>\n",
        "<tr>\n",
        "  <th>Covariance Type:</th>      <td>nonrobust</td>    <th>                     </th>     <td> </td>   \n",
        "</tr>\n",
        "</table>\n",
        "<table class=\"simpletable\">\n",
        "<tr>\n",
        "       <td></td>          <th>coef</th>     <th>std err</th>      <th>t</th>      <th>P>|t|</th> <th>[95.0% Conf. Int.]</th> \n",
        "</tr>\n",
        "<tr>\n",
        "  <th>Intercept</th>   <td>   -2.2027</td> <td>    1.854</td> <td>   -1.188</td> <td> 0.248</td> <td>   -6.048     1.643</td>\n",
        "</tr>\n",
        "<tr>\n",
        "  <th>AGST</th>        <td>    0.6026</td> <td>    0.111</td> <td>    5.415</td> <td> 0.000</td> <td>    0.372     0.833</td>\n",
        "</tr>\n",
        "<tr>\n",
        "  <th>HarvestRain</th> <td>   -0.0046</td> <td>    0.001</td> <td>   -4.525</td> <td> 0.000</td> <td>   -0.007    -0.002</td>\n",
        "</tr>\n",
        "</table>\n",
        "<table class=\"simpletable\">\n",
        "<tr>\n",
        "  <th>Omnibus:</th>       <td> 1.897</td> <th>  Durbin-Watson:     </th> <td>   1.775</td>\n",
        "</tr>\n",
        "<tr>\n",
        "  <th>Prob(Omnibus):</th> <td> 0.387</td> <th>  Jarque-Bera (JB):  </th> <td>   1.096</td>\n",
        "</tr>\n",
        "<tr>\n",
        "  <th>Skew:</th>          <td>-0.511</td> <th>  Prob(JB):          </th> <td>   0.578</td>\n",
        "</tr>\n",
        "<tr>\n",
        "  <th>Kurtosis:</th>      <td> 3.080</td> <th>  Cond. No.          </th> <td>4.20e+03</td>\n",
        "</tr>\n",
        "</table>"
       ],
       "metadata": {},
       "output_type": "pyout",
       "prompt_number": 20,
       "text": [
        "<class 'statsmodels.iolib.summary.Summary'>\n",
        "\"\"\"\n",
        "                            OLS Regression Results                            \n",
        "==============================================================================\n",
        "Dep. Variable:                  Price   R-squared:                       0.707\n",
        "Model:                            OLS   Adj. R-squared:                  0.681\n",
        "Method:                 Least Squares   F-statistic:                     26.59\n",
        "Date:                Tue, 11 Mar 2014   Prob (F-statistic):           1.35e-06\n",
        "Time:                        12:01:54   Log-Likelihood:                -8.8461\n",
        "No. Observations:                  25   AIC:                             23.69\n",
        "Df Residuals:                      22   BIC:                             27.35\n",
        "Df Model:                           2                                         \n",
        "Covariance Type:            nonrobust                                         \n",
        "===============================================================================\n",
        "                  coef    std err          t      P>|t|      [95.0% Conf. Int.]\n",
        "-------------------------------------------------------------------------------\n",
        "Intercept      -2.2027      1.854     -1.188      0.248        -6.048     1.643\n",
        "AGST            0.6026      0.111      5.415      0.000         0.372     0.833\n",
        "HarvestRain    -0.0046      0.001     -4.525      0.000        -0.007    -0.002\n",
        "==============================================================================\n",
        "Omnibus:                        1.897   Durbin-Watson:                   1.775\n",
        "Prob(Omnibus):                  0.387   Jarque-Bera (JB):                1.096\n",
        "Skew:                          -0.511   Prob(JB):                        0.578\n",
        "Kurtosis:                       3.080   Cond. No.                     4.20e+03\n",
        "==============================================================================\n",
        "\n",
        "Warnings:\n",
        "[1] Standard Errors assume that the covariance matrix of the errors is correctly specified.\n",
        "[2] The condition number is large, 4.2e+03. This might indicate that there are\n",
        "strong multicollinearity or other numerical problems.\n",
        "\"\"\""
       ]
      }
     ],
     "prompt_number": 20
    },
    {
     "cell_type": "markdown",
     "metadata": {},
     "source": [
      "We can observe that R2 and Adjusted R2 improves"
     ]
    },
    {
     "cell_type": "code",
     "collapsed": false,
     "input": [
      "sse = (model2_fit.resid*model2_fit.resid).sum()"
     ],
     "language": "python",
     "metadata": {},
     "outputs": [],
     "prompt_number": 21
    },
    {
     "cell_type": "code",
     "collapsed": false,
     "input": [
      "sse"
     ],
     "language": "python",
     "metadata": {},
     "outputs": [
      {
       "metadata": {},
       "output_type": "pyout",
       "prompt_number": 22,
       "text": [
        "2.9703733401735413"
       ]
      }
     ],
     "prompt_number": 22
    },
    {
     "cell_type": "markdown",
     "metadata": {},
     "source": [
      "Sum of squared errors has reduced drastically"
     ]
    },
    {
     "cell_type": "code",
     "collapsed": false,
     "input": [
      "model3 = sm.ols(formula='Price ~ AGST+HarvestRain+WinterRain+Age+FrancePop', data=wine)"
     ],
     "language": "python",
     "metadata": {},
     "outputs": [],
     "prompt_number": 23
    },
    {
     "cell_type": "code",
     "collapsed": false,
     "input": [
      "model3_fit = model3.fit()"
     ],
     "language": "python",
     "metadata": {},
     "outputs": [],
     "prompt_number": 24
    },
    {
     "cell_type": "code",
     "collapsed": false,
     "input": [
      "model3_fit.summary()"
     ],
     "language": "python",
     "metadata": {},
     "outputs": [
      {
       "html": [
        "<table class=\"simpletable\">\n",
        "<caption>OLS Regression Results</caption>\n",
        "<tr>\n",
        "  <th>Dep. Variable:</th>          <td>Price</td>      <th>  R-squared:         </th> <td>   0.829</td>\n",
        "</tr>\n",
        "<tr>\n",
        "  <th>Model:</th>                   <td>OLS</td>       <th>  Adj. R-squared:    </th> <td>   0.784</td>\n",
        "</tr>\n",
        "<tr>\n",
        "  <th>Method:</th>             <td>Least Squares</td>  <th>  F-statistic:       </th> <td>   18.47</td>\n",
        "</tr>\n",
        "<tr>\n",
        "  <th>Date:</th>             <td>Tue, 11 Mar 2014</td> <th>  Prob (F-statistic):</th> <td>1.04e-06</td>\n",
        "</tr>\n",
        "<tr>\n",
        "  <th>Time:</th>                 <td>12:01:58</td>     <th>  Log-Likelihood:    </th> <td> -2.1043</td>\n",
        "</tr>\n",
        "<tr>\n",
        "  <th>No. Observations:</th>      <td>    25</td>      <th>  AIC:               </th> <td>   16.21</td>\n",
        "</tr>\n",
        "<tr>\n",
        "  <th>Df Residuals:</th>          <td>    19</td>      <th>  BIC:               </th> <td>   23.52</td>\n",
        "</tr>\n",
        "<tr>\n",
        "  <th>Df Model:</th>              <td>     5</td>      <th>                     </th>     <td> </td>   \n",
        "</tr>\n",
        "<tr>\n",
        "  <th>Covariance Type:</th>      <td>nonrobust</td>    <th>                     </th>     <td> </td>   \n",
        "</tr>\n",
        "</table>\n",
        "<table class=\"simpletable\">\n",
        "<tr>\n",
        "       <td></td>          <th>coef</th>     <th>std err</th>      <th>t</th>      <th>P>|t|</th> <th>[95.0% Conf. Int.]</th> \n",
        "</tr>\n",
        "<tr>\n",
        "  <th>Intercept</th>   <td>   -0.4504</td> <td>   10.189</td> <td>   -0.044</td> <td> 0.965</td> <td>  -21.776    20.875</td>\n",
        "</tr>\n",
        "<tr>\n",
        "  <th>AGST</th>        <td>    0.6012</td> <td>    0.103</td> <td>    5.836</td> <td> 0.000</td> <td>    0.386     0.817</td>\n",
        "</tr>\n",
        "<tr>\n",
        "  <th>HarvestRain</th> <td>   -0.0040</td> <td>    0.001</td> <td>   -4.523</td> <td> 0.000</td> <td>   -0.006    -0.002</td>\n",
        "</tr>\n",
        "<tr>\n",
        "  <th>WinterRain</th>  <td>    0.0010</td> <td>    0.001</td> <td>    1.963</td> <td> 0.064</td> <td>-6.89e-05     0.002</td>\n",
        "</tr>\n",
        "<tr>\n",
        "  <th>Age</th>         <td>    0.0006</td> <td>    0.079</td> <td>    0.007</td> <td> 0.994</td> <td>   -0.165     0.166</td>\n",
        "</tr>\n",
        "<tr>\n",
        "  <th>FrancePop</th>   <td>-4.953e-05</td> <td>    0.000</td> <td>   -0.297</td> <td> 0.770</td> <td>   -0.000     0.000</td>\n",
        "</tr>\n",
        "</table>\n",
        "<table class=\"simpletable\">\n",
        "<tr>\n",
        "  <th>Omnibus:</th>       <td> 1.769</td> <th>  Durbin-Watson:     </th> <td>   2.792</td>\n",
        "</tr>\n",
        "<tr>\n",
        "  <th>Prob(Omnibus):</th> <td> 0.413</td> <th>  Jarque-Bera (JB):  </th> <td>   1.026</td>\n",
        "</tr>\n",
        "<tr>\n",
        "  <th>Skew:</th>          <td>-0.005</td> <th>  Prob(JB):          </th> <td>   0.599</td>\n",
        "</tr>\n",
        "<tr>\n",
        "  <th>Kurtosis:</th>      <td> 2.008</td> <th>  Cond. No.          </th> <td>8.41e+06</td>\n",
        "</tr>\n",
        "</table>"
       ],
       "metadata": {},
       "output_type": "pyout",
       "prompt_number": 25,
       "text": [
        "<class 'statsmodels.iolib.summary.Summary'>\n",
        "\"\"\"\n",
        "                            OLS Regression Results                            \n",
        "==============================================================================\n",
        "Dep. Variable:                  Price   R-squared:                       0.829\n",
        "Model:                            OLS   Adj. R-squared:                  0.784\n",
        "Method:                 Least Squares   F-statistic:                     18.47\n",
        "Date:                Tue, 11 Mar 2014   Prob (F-statistic):           1.04e-06\n",
        "Time:                        12:01:58   Log-Likelihood:                -2.1043\n",
        "No. Observations:                  25   AIC:                             16.21\n",
        "Df Residuals:                      19   BIC:                             23.52\n",
        "Df Model:                           5                                         \n",
        "Covariance Type:            nonrobust                                         \n",
        "===============================================================================\n",
        "                  coef    std err          t      P>|t|      [95.0% Conf. Int.]\n",
        "-------------------------------------------------------------------------------\n",
        "Intercept      -0.4504     10.189     -0.044      0.965       -21.776    20.875\n",
        "AGST            0.6012      0.103      5.836      0.000         0.386     0.817\n",
        "HarvestRain    -0.0040      0.001     -4.523      0.000        -0.006    -0.002\n",
        "WinterRain      0.0010      0.001      1.963      0.064     -6.89e-05     0.002\n",
        "Age             0.0006      0.079      0.007      0.994        -0.165     0.166\n",
        "FrancePop   -4.953e-05      0.000     -0.297      0.770        -0.000     0.000\n",
        "==============================================================================\n",
        "Omnibus:                        1.769   Durbin-Watson:                   2.792\n",
        "Prob(Omnibus):                  0.413   Jarque-Bera (JB):                1.026\n",
        "Skew:                          -0.005   Prob(JB):                        0.599\n",
        "Kurtosis:                       2.008   Cond. No.                     8.41e+06\n",
        "==============================================================================\n",
        "\n",
        "Warnings:\n",
        "[1] Standard Errors assume that the covariance matrix of the errors is correctly specified.\n",
        "[2] The condition number is large, 8.41e+06. This might indicate that there are\n",
        "strong multicollinearity or other numerical problems.\n",
        "\"\"\""
       ]
      }
     ],
     "prompt_number": 25
    },
    {
     "cell_type": "code",
     "collapsed": false,
     "input": [
      "sse = (model3_fit.resid*model3_fit.resid).sum()"
     ],
     "language": "python",
     "metadata": {},
     "outputs": [],
     "prompt_number": 26
    },
    {
     "cell_type": "code",
     "collapsed": false,
     "input": [
      "sse"
     ],
     "language": "python",
     "metadata": {},
     "outputs": [
      {
       "metadata": {},
       "output_type": "pyout",
       "prompt_number": 27,
       "text": [
        "1.7321127153437974"
       ]
      }
     ],
     "prompt_number": 27
    },
    {
     "cell_type": "markdown",
     "metadata": {},
     "source": [
      "SSE reduces further"
     ]
    },
    {
     "cell_type": "markdown",
     "metadata": {},
     "source": [
      "Quick questions\n",
      "****************"
     ]
    },
    {
     "cell_type": "markdown",
     "metadata": {},
     "source": [
      "The output is suppressed before committing to GH"
     ]
    },
    {
     "cell_type": "code",
     "collapsed": false,
     "input": [
      "sm.ols(formula='Price ~ HarvestRain+WinterRain', data=wine).fit().summary();"
     ],
     "language": "python",
     "metadata": {},
     "outputs": [],
     "prompt_number": 28
    },
    {
     "cell_type": "heading",
     "level": 3,
     "metadata": {},
     "source": [
      "Video 5"
     ]
    },
    {
     "cell_type": "markdown",
     "metadata": {},
     "source": [
      "model4 removing France population"
     ]
    },
    {
     "cell_type": "code",
     "collapsed": false,
     "input": [
      "model4 = sm.ols(formula='Price ~ AGST+HarvestRain+WinterRain+Age', data=wine)"
     ],
     "language": "python",
     "metadata": {},
     "outputs": [],
     "prompt_number": 29
    },
    {
     "cell_type": "code",
     "collapsed": false,
     "input": [
      "model4_fit = model4.fit()"
     ],
     "language": "python",
     "metadata": {},
     "outputs": [],
     "prompt_number": 30
    },
    {
     "cell_type": "code",
     "collapsed": false,
     "input": [
      "model4_fit.summary()"
     ],
     "language": "python",
     "metadata": {},
     "outputs": [
      {
       "html": [
        "<table class=\"simpletable\">\n",
        "<caption>OLS Regression Results</caption>\n",
        "<tr>\n",
        "  <th>Dep. Variable:</th>          <td>Price</td>      <th>  R-squared:         </th> <td>   0.829</td>\n",
        "</tr>\n",
        "<tr>\n",
        "  <th>Model:</th>                   <td>OLS</td>       <th>  Adj. R-squared:    </th> <td>   0.794</td>\n",
        "</tr>\n",
        "<tr>\n",
        "  <th>Method:</th>             <td>Least Squares</td>  <th>  F-statistic:       </th> <td>   24.17</td>\n",
        "</tr>\n",
        "<tr>\n",
        "  <th>Date:</th>             <td>Tue, 11 Mar 2014</td> <th>  Prob (F-statistic):</th> <td>2.04e-07</td>\n",
        "</tr>\n",
        "<tr>\n",
        "  <th>Time:</th>                 <td>12:02:05</td>     <th>  Log-Likelihood:    </th> <td> -2.1622</td>\n",
        "</tr>\n",
        "<tr>\n",
        "  <th>No. Observations:</th>      <td>    25</td>      <th>  AIC:               </th> <td>   14.32</td>\n",
        "</tr>\n",
        "<tr>\n",
        "  <th>Df Residuals:</th>          <td>    20</td>      <th>  BIC:               </th> <td>   20.42</td>\n",
        "</tr>\n",
        "<tr>\n",
        "  <th>Df Model:</th>              <td>     4</td>      <th>                     </th>     <td> </td>   \n",
        "</tr>\n",
        "<tr>\n",
        "  <th>Covariance Type:</th>      <td>nonrobust</td>    <th>                     </th>     <td> </td>   \n",
        "</tr>\n",
        "</table>\n",
        "<table class=\"simpletable\">\n",
        "<tr>\n",
        "       <td></td>          <th>coef</th>     <th>std err</th>      <th>t</th>      <th>P>|t|</th> <th>[95.0% Conf. Int.]</th> \n",
        "</tr>\n",
        "<tr>\n",
        "  <th>Intercept</th>   <td>   -3.4300</td> <td>    1.766</td> <td>   -1.942</td> <td> 0.066</td> <td>   -7.114     0.254</td>\n",
        "</tr>\n",
        "<tr>\n",
        "  <th>AGST</th>        <td>    0.6072</td> <td>    0.099</td> <td>    6.152</td> <td> 0.000</td> <td>    0.401     0.813</td>\n",
        "</tr>\n",
        "<tr>\n",
        "  <th>HarvestRain</th> <td>   -0.0040</td> <td>    0.001</td> <td>   -4.652</td> <td> 0.000</td> <td>   -0.006    -0.002</td>\n",
        "</tr>\n",
        "<tr>\n",
        "  <th>WinterRain</th>  <td>    0.0011</td> <td>    0.001</td> <td>    2.120</td> <td> 0.047</td> <td> 1.73e-05     0.002</td>\n",
        "</tr>\n",
        "<tr>\n",
        "  <th>Age</th>         <td>    0.0239</td> <td>    0.008</td> <td>    2.956</td> <td> 0.008</td> <td>    0.007     0.041</td>\n",
        "</tr>\n",
        "</table>\n",
        "<table class=\"simpletable\">\n",
        "<tr>\n",
        "  <th>Omnibus:</th>       <td> 1.814</td> <th>  Durbin-Watson:     </th> <td>   2.797</td>\n",
        "</tr>\n",
        "<tr>\n",
        "  <th>Prob(Omnibus):</th> <td> 0.404</td> <th>  Jarque-Bera (JB):  </th> <td>   1.041</td>\n",
        "</tr>\n",
        "<tr>\n",
        "  <th>Skew:</th>          <td> 0.034</td> <th>  Prob(JB):          </th> <td>   0.594</td>\n",
        "</tr>\n",
        "<tr>\n",
        "  <th>Kurtosis:</th>      <td> 2.003</td> <th>  Cond. No.          </th> <td>1.91e+04</td>\n",
        "</tr>\n",
        "</table>"
       ],
       "metadata": {},
       "output_type": "pyout",
       "prompt_number": 31,
       "text": [
        "<class 'statsmodels.iolib.summary.Summary'>\n",
        "\"\"\"\n",
        "                            OLS Regression Results                            \n",
        "==============================================================================\n",
        "Dep. Variable:                  Price   R-squared:                       0.829\n",
        "Model:                            OLS   Adj. R-squared:                  0.794\n",
        "Method:                 Least Squares   F-statistic:                     24.17\n",
        "Date:                Tue, 11 Mar 2014   Prob (F-statistic):           2.04e-07\n",
        "Time:                        12:02:05   Log-Likelihood:                -2.1622\n",
        "No. Observations:                  25   AIC:                             14.32\n",
        "Df Residuals:                      20   BIC:                             20.42\n",
        "Df Model:                           4                                         \n",
        "Covariance Type:            nonrobust                                         \n",
        "===============================================================================\n",
        "                  coef    std err          t      P>|t|      [95.0% Conf. Int.]\n",
        "-------------------------------------------------------------------------------\n",
        "Intercept      -3.4300      1.766     -1.942      0.066        -7.114     0.254\n",
        "AGST            0.6072      0.099      6.152      0.000         0.401     0.813\n",
        "HarvestRain    -0.0040      0.001     -4.652      0.000        -0.006    -0.002\n",
        "WinterRain      0.0011      0.001      2.120      0.047      1.73e-05     0.002\n",
        "Age             0.0239      0.008      2.956      0.008         0.007     0.041\n",
        "==============================================================================\n",
        "Omnibus:                        1.814   Durbin-Watson:                   2.797\n",
        "Prob(Omnibus):                  0.404   Jarque-Bera (JB):                1.041\n",
        "Skew:                           0.034   Prob(JB):                        0.594\n",
        "Kurtosis:                       2.003   Cond. No.                     1.91e+04\n",
        "==============================================================================\n",
        "\n",
        "Warnings:\n",
        "[1] Standard Errors assume that the covariance matrix of the errors is correctly specified.\n",
        "[2] The condition number is large, 1.91e+04. This might indicate that there are\n",
        "strong multicollinearity or other numerical problems.\n",
        "\"\"\""
       ]
      }
     ],
     "prompt_number": 31
    },
    {
     "cell_type": "markdown",
     "metadata": {},
     "source": [
      "By removing France Pop, Age also becomes significant"
     ]
    },
    {
     "cell_type": "markdown",
     "metadata": {},
     "source": [
      "Correlation between winter rain and price"
     ]
    },
    {
     "cell_type": "code",
     "collapsed": false,
     "input": [
      "wine.corr()"
     ],
     "language": "python",
     "metadata": {},
     "outputs": [
      {
       "html": [
        "<div style=\"max-height:1000px;max-width:1500px;overflow:auto;\">\n",
        "<table border=\"1\" class=\"dataframe\">\n",
        "  <thead>\n",
        "    <tr style=\"text-align: right;\">\n",
        "      <th></th>\n",
        "      <th>Year</th>\n",
        "      <th>Price</th>\n",
        "      <th>WinterRain</th>\n",
        "      <th>AGST</th>\n",
        "      <th>HarvestRain</th>\n",
        "      <th>Age</th>\n",
        "      <th>FrancePop</th>\n",
        "    </tr>\n",
        "  </thead>\n",
        "  <tbody>\n",
        "    <tr>\n",
        "      <th>Year</th>\n",
        "      <td> 1.000000</td>\n",
        "      <td>-0.447768</td>\n",
        "      <td> 0.016970</td>\n",
        "      <td>-0.246916</td>\n",
        "      <td> 0.028009</td>\n",
        "      <td>-1.000000</td>\n",
        "      <td> 0.994485</td>\n",
        "    </tr>\n",
        "    <tr>\n",
        "      <th>Price</th>\n",
        "      <td>-0.447768</td>\n",
        "      <td> 1.000000</td>\n",
        "      <td> 0.136651</td>\n",
        "      <td> 0.659563</td>\n",
        "      <td>-0.563322</td>\n",
        "      <td> 0.447768</td>\n",
        "      <td>-0.466862</td>\n",
        "    </tr>\n",
        "    <tr>\n",
        "      <th>WinterRain</th>\n",
        "      <td> 0.016970</td>\n",
        "      <td> 0.136651</td>\n",
        "      <td> 1.000000</td>\n",
        "      <td>-0.321091</td>\n",
        "      <td>-0.275441</td>\n",
        "      <td>-0.016970</td>\n",
        "      <td>-0.001622</td>\n",
        "    </tr>\n",
        "    <tr>\n",
        "      <th>AGST</th>\n",
        "      <td>-0.246916</td>\n",
        "      <td> 0.659563</td>\n",
        "      <td>-0.321091</td>\n",
        "      <td> 1.000000</td>\n",
        "      <td>-0.064496</td>\n",
        "      <td> 0.246916</td>\n",
        "      <td>-0.259162</td>\n",
        "    </tr>\n",
        "    <tr>\n",
        "      <th>HarvestRain</th>\n",
        "      <td> 0.028009</td>\n",
        "      <td>-0.563322</td>\n",
        "      <td>-0.275441</td>\n",
        "      <td>-0.064496</td>\n",
        "      <td> 1.000000</td>\n",
        "      <td>-0.028009</td>\n",
        "      <td> 0.041264</td>\n",
        "    </tr>\n",
        "    <tr>\n",
        "      <th>Age</th>\n",
        "      <td>-1.000000</td>\n",
        "      <td> 0.447768</td>\n",
        "      <td>-0.016970</td>\n",
        "      <td> 0.246916</td>\n",
        "      <td>-0.028009</td>\n",
        "      <td> 1.000000</td>\n",
        "      <td>-0.994485</td>\n",
        "    </tr>\n",
        "    <tr>\n",
        "      <th>FrancePop</th>\n",
        "      <td> 0.994485</td>\n",
        "      <td>-0.466862</td>\n",
        "      <td>-0.001622</td>\n",
        "      <td>-0.259162</td>\n",
        "      <td> 0.041264</td>\n",
        "      <td>-0.994485</td>\n",
        "      <td> 1.000000</td>\n",
        "    </tr>\n",
        "  </tbody>\n",
        "</table>\n",
        "<p>7 rows \u00d7 7 columns</p>\n",
        "</div>"
       ],
       "metadata": {},
       "output_type": "pyout",
       "prompt_number": 32,
       "text": [
        "                 Year     Price  WinterRain      AGST  HarvestRain       Age  \\\n",
        "Year         1.000000 -0.447768    0.016970 -0.246916     0.028009 -1.000000   \n",
        "Price       -0.447768  1.000000    0.136651  0.659563    -0.563322  0.447768   \n",
        "WinterRain   0.016970  0.136651    1.000000 -0.321091    -0.275441 -0.016970   \n",
        "AGST        -0.246916  0.659563   -0.321091  1.000000    -0.064496  0.246916   \n",
        "HarvestRain  0.028009 -0.563322   -0.275441 -0.064496     1.000000 -0.028009   \n",
        "Age         -1.000000  0.447768   -0.016970  0.246916    -0.028009  1.000000   \n",
        "FrancePop    0.994485 -0.466862   -0.001622 -0.259162     0.041264 -0.994485   \n",
        "\n",
        "             FrancePop  \n",
        "Year          0.994485  \n",
        "Price        -0.466862  \n",
        "WinterRain   -0.001622  \n",
        "AGST         -0.259162  \n",
        "HarvestRain   0.041264  \n",
        "Age          -0.994485  \n",
        "FrancePop     1.000000  \n",
        "\n",
        "[7 rows x 7 columns]"
       ]
      }
     ],
     "prompt_number": 32
    },
    {
     "cell_type": "code",
     "collapsed": false,
     "input": [
      "model5 = sm.ols('Price ~ AGST + HarvestRain + WinterRain', data=wine)"
     ],
     "language": "python",
     "metadata": {},
     "outputs": [],
     "prompt_number": 33
    },
    {
     "cell_type": "code",
     "collapsed": false,
     "input": [
      "model5_fit=model5.fit()"
     ],
     "language": "python",
     "metadata": {},
     "outputs": [],
     "prompt_number": 34
    },
    {
     "cell_type": "code",
     "collapsed": false,
     "input": [
      "model5_fit.summary()"
     ],
     "language": "python",
     "metadata": {},
     "outputs": [
      {
       "html": [
        "<table class=\"simpletable\">\n",
        "<caption>OLS Regression Results</caption>\n",
        "<tr>\n",
        "  <th>Dep. Variable:</th>          <td>Price</td>      <th>  R-squared:         </th> <td>   0.754</td>\n",
        "</tr>\n",
        "<tr>\n",
        "  <th>Model:</th>                   <td>OLS</td>       <th>  Adj. R-squared:    </th> <td>   0.719</td>\n",
        "</tr>\n",
        "<tr>\n",
        "  <th>Method:</th>             <td>Least Squares</td>  <th>  F-statistic:       </th> <td>   21.42</td>\n",
        "</tr>\n",
        "<tr>\n",
        "  <th>Date:</th>             <td>Tue, 11 Mar 2014</td> <th>  Prob (F-statistic):</th> <td>1.36e-06</td>\n",
        "</tr>\n",
        "<tr>\n",
        "  <th>Time:</th>                 <td>12:02:08</td>     <th>  Log-Likelihood:    </th> <td> -6.6922</td>\n",
        "</tr>\n",
        "<tr>\n",
        "  <th>No. Observations:</th>      <td>    25</td>      <th>  AIC:               </th> <td>   21.38</td>\n",
        "</tr>\n",
        "<tr>\n",
        "  <th>Df Residuals:</th>          <td>    21</td>      <th>  BIC:               </th> <td>   26.26</td>\n",
        "</tr>\n",
        "<tr>\n",
        "  <th>Df Model:</th>              <td>     3</td>      <th>                     </th>     <td> </td>   \n",
        "</tr>\n",
        "<tr>\n",
        "  <th>Covariance Type:</th>      <td>nonrobust</td>    <th>                     </th>     <td> </td>   \n",
        "</tr>\n",
        "</table>\n",
        "<table class=\"simpletable\">\n",
        "<tr>\n",
        "       <td></td>          <th>coef</th>     <th>std err</th>      <th>t</th>      <th>P>|t|</th> <th>[95.0% Conf. Int.]</th> \n",
        "</tr>\n",
        "<tr>\n",
        "  <th>Intercept</th>   <td>   -4.3016</td> <td>    2.037</td> <td>   -2.112</td> <td> 0.047</td> <td>   -8.537    -0.066</td>\n",
        "</tr>\n",
        "<tr>\n",
        "  <th>AGST</th>        <td>    0.6810</td> <td>    0.112</td> <td>    6.097</td> <td> 0.000</td> <td>    0.449     0.913</td>\n",
        "</tr>\n",
        "<tr>\n",
        "  <th>HarvestRain</th> <td>   -0.0039</td> <td>    0.001</td> <td>   -3.953</td> <td> 0.001</td> <td>   -0.006    -0.002</td>\n",
        "</tr>\n",
        "<tr>\n",
        "  <th>WinterRain</th>  <td>    0.0012</td> <td>    0.001</td> <td>    1.987</td> <td> 0.060</td> <td>-5.47e-05     0.002</td>\n",
        "</tr>\n",
        "</table>\n",
        "<table class=\"simpletable\">\n",
        "<tr>\n",
        "  <th>Omnibus:</th>       <td> 0.621</td> <th>  Durbin-Watson:     </th> <td>   2.022</td>\n",
        "</tr>\n",
        "<tr>\n",
        "  <th>Prob(Omnibus):</th> <td> 0.733</td> <th>  Jarque-Bera (JB):  </th> <td>   0.419</td>\n",
        "</tr>\n",
        "<tr>\n",
        "  <th>Skew:</th>          <td>-0.303</td> <th>  Prob(JB):          </th> <td>   0.811</td>\n",
        "</tr>\n",
        "<tr>\n",
        "  <th>Kurtosis:</th>      <td> 2.810</td> <th>  Cond. No.          </th> <td>1.88e+04</td>\n",
        "</tr>\n",
        "</table>"
       ],
       "metadata": {},
       "output_type": "pyout",
       "prompt_number": 35,
       "text": [
        "<class 'statsmodels.iolib.summary.Summary'>\n",
        "\"\"\"\n",
        "                            OLS Regression Results                            \n",
        "==============================================================================\n",
        "Dep. Variable:                  Price   R-squared:                       0.754\n",
        "Model:                            OLS   Adj. R-squared:                  0.719\n",
        "Method:                 Least Squares   F-statistic:                     21.42\n",
        "Date:                Tue, 11 Mar 2014   Prob (F-statistic):           1.36e-06\n",
        "Time:                        12:02:08   Log-Likelihood:                -6.6922\n",
        "No. Observations:                  25   AIC:                             21.38\n",
        "Df Residuals:                      21   BIC:                             26.26\n",
        "Df Model:                           3                                         \n",
        "Covariance Type:            nonrobust                                         \n",
        "===============================================================================\n",
        "                  coef    std err          t      P>|t|      [95.0% Conf. Int.]\n",
        "-------------------------------------------------------------------------------\n",
        "Intercept      -4.3016      2.037     -2.112      0.047        -8.537    -0.066\n",
        "AGST            0.6810      0.112      6.097      0.000         0.449     0.913\n",
        "HarvestRain    -0.0039      0.001     -3.953      0.001        -0.006    -0.002\n",
        "WinterRain      0.0012      0.001      1.987      0.060     -5.47e-05     0.002\n",
        "==============================================================================\n",
        "Omnibus:                        0.621   Durbin-Watson:                   2.022\n",
        "Prob(Omnibus):                  0.733   Jarque-Bera (JB):                0.419\n",
        "Skew:                          -0.303   Prob(JB):                        0.811\n",
        "Kurtosis:                       2.810   Cond. No.                     1.88e+04\n",
        "==============================================================================\n",
        "\n",
        "Warnings:\n",
        "[1] Standard Errors assume that the covariance matrix of the errors is correctly specified.\n",
        "[2] The condition number is large, 1.88e+04. This might indicate that there are\n",
        "strong multicollinearity or other numerical problems.\n",
        "\"\"\""
       ]
      }
     ],
     "prompt_number": 35
    },
    {
     "cell_type": "heading",
     "level": 4,
     "metadata": {},
     "source": [
      "Video6"
     ]
    },
    {
     "cell_type": "markdown",
     "metadata": {},
     "source": [
      "Reading in test file"
     ]
    },
    {
     "cell_type": "code",
     "collapsed": false,
     "input": [
      "wine_test = pd.read_csv(\"../data/wine_test.csv\")"
     ],
     "language": "python",
     "metadata": {},
     "outputs": [],
     "prompt_number": 36
    },
    {
     "cell_type": "code",
     "collapsed": false,
     "input": [
      "wine_test"
     ],
     "language": "python",
     "metadata": {},
     "outputs": [
      {
       "html": [
        "<div style=\"max-height:1000px;max-width:1500px;overflow:auto;\">\n",
        "<table border=\"1\" class=\"dataframe\">\n",
        "  <thead>\n",
        "    <tr style=\"text-align: right;\">\n",
        "      <th></th>\n",
        "      <th>Year</th>\n",
        "      <th>Price</th>\n",
        "      <th>WinterRain</th>\n",
        "      <th>AGST</th>\n",
        "      <th>HarvestRain</th>\n",
        "      <th>Age</th>\n",
        "      <th>FrancePop</th>\n",
        "    </tr>\n",
        "  </thead>\n",
        "  <tbody>\n",
        "    <tr>\n",
        "      <th>0</th>\n",
        "      <td> 1979</td>\n",
        "      <td> 6.9541</td>\n",
        "      <td> 717</td>\n",
        "      <td> 16.1667</td>\n",
        "      <td> 122</td>\n",
        "      <td> 4</td>\n",
        "      <td> 54835.832</td>\n",
        "    </tr>\n",
        "    <tr>\n",
        "      <th>1</th>\n",
        "      <td> 1980</td>\n",
        "      <td> 6.4979</td>\n",
        "      <td> 578</td>\n",
        "      <td> 16.0000</td>\n",
        "      <td>  74</td>\n",
        "      <td> 3</td>\n",
        "      <td> 55110.236</td>\n",
        "    </tr>\n",
        "  </tbody>\n",
        "</table>\n",
        "<p>2 rows \u00d7 7 columns</p>\n",
        "</div>"
       ],
       "metadata": {},
       "output_type": "pyout",
       "prompt_number": 37,
       "text": [
        "   Year   Price  WinterRain     AGST  HarvestRain  Age  FrancePop\n",
        "0  1979  6.9541         717  16.1667          122    4  54835.832\n",
        "1  1980  6.4979         578  16.0000           74    3  55110.236\n",
        "\n",
        "[2 rows x 7 columns]"
       ]
      }
     ],
     "prompt_number": 37
    },
    {
     "cell_type": "code",
     "collapsed": false,
     "input": [
      "model4_fit.predict(wine_test)"
     ],
     "language": "python",
     "metadata": {},
     "outputs": [
      {
       "metadata": {},
       "output_type": "pyout",
       "prompt_number": 38,
       "text": [
        "array([ 6.76892463,  6.6849104 ])"
       ]
      }
     ],
     "prompt_number": 38
    },
    {
     "cell_type": "markdown",
     "metadata": {},
     "source": [
      "Finding $R^2$"
     ]
    },
    {
     "cell_type": "code",
     "collapsed": false,
     "input": [
      "sse = ((wine_test.Price-model4_fit.predict(wine_test))**2).sum()"
     ],
     "language": "python",
     "metadata": {},
     "outputs": [],
     "prompt_number": 39
    },
    {
     "cell_type": "code",
     "collapsed": false,
     "input": [
      "sse"
     ],
     "language": "python",
     "metadata": {},
     "outputs": [
      {
       "metadata": {},
       "output_type": "pyout",
       "prompt_number": 40,
       "text": [
        "0.069262808487766225"
       ]
      }
     ],
     "prompt_number": 40
    },
    {
     "cell_type": "code",
     "collapsed": false,
     "input": [
      "sst = ((wine_test.Price-wine.Price.mean())**2).sum()"
     ],
     "language": "python",
     "metadata": {},
     "outputs": [],
     "prompt_number": 41
    },
    {
     "cell_type": "code",
     "collapsed": false,
     "input": [
      "r2 = 1-sse/sst"
     ],
     "language": "python",
     "metadata": {},
     "outputs": [],
     "prompt_number": 42
    },
    {
     "cell_type": "code",
     "collapsed": false,
     "input": [
      "r2"
     ],
     "language": "python",
     "metadata": {},
     "outputs": [
      {
       "metadata": {},
       "output_type": "pyout",
       "prompt_number": 44,
       "text": [
        "0.79442776026318052"
       ]
      }
     ],
     "prompt_number": 44
    },
    {
     "cell_type": "code",
     "collapsed": false,
     "input": [
      "from IPython.display import HTML\n",
      "import requests\n",
      "styles = requests.get(\"https://raw.github.com/CamDavidsonPilon/Probabilistic-Programming-and-Bayesian-Methods-for-Hackers/master/styles/custom.css\")\n",
      "HTML(styles.text)"
     ],
     "language": "python",
     "metadata": {},
     "outputs": [
      {
       "html": [
        "<style>\n",
        "    @font-face {\n",
        "        font-family: \"Computer Modern\";\n",
        "        src: url('http://9dbb143991406a7c655e-aa5fcb0a5a4ec34cff238a2d56ca4144.r56.cf5.rackcdn.com/cmunss.otf');\n",
        "    }\n",
        "    @font-face {\n",
        "        font-family: \"Computer Modern\";\n",
        "        font-weight: bold;\n",
        "        src: url('http://9dbb143991406a7c655e-aa5fcb0a5a4ec34cff238a2d56ca4144.r56.cf5.rackcdn.com/cmunsx.otf');\n",
        "    }\n",
        "    @font-face {\n",
        "        font-family: \"Computer Modern\";\n",
        "        font-style: oblique;\n",
        "        src: url('http://9dbb143991406a7c655e-aa5fcb0a5a4ec34cff238a2d56ca4144.r56.cf5.rackcdn.com/cmunsi.otf');\n",
        "    }\n",
        "    @font-face {\n",
        "        font-family: \"Computer Modern\";\n",
        "        font-weight: bold;\n",
        "        font-style: oblique;\n",
        "        src: url('http://9dbb143991406a7c655e-aa5fcb0a5a4ec34cff238a2d56ca4144.r56.cf5.rackcdn.com/cmunso.otf');\n",
        "    }\n",
        "    div.cell{\n",
        "        width:800px;\n",
        "        margin-left:16% !important;\n",
        "        margin-right:auto;\n",
        "    }\n",
        "    h1 {\n",
        "        font-family: Helvetica, serif;\n",
        "    }\n",
        "    h4{\n",
        "        margin-top:12px;\n",
        "        margin-bottom: 3px;\n",
        "       }\n",
        "    div.text_cell_render{\n",
        "        font-family: Computer Modern, \"Helvetica Neue\", Arial, Helvetica, Geneva, sans-serif;\n",
        "        line-height: 145%;\n",
        "        font-size: 130%;\n",
        "        width:800px;\n",
        "        margin-left:auto;\n",
        "        margin-right:auto;\n",
        "    }\n",
        "    .CodeMirror{\n",
        "            font-family: \"Source Code Pro\", source-code-pro,Consolas, monospace;\n",
        "    }\n",
        "    .prompt{\n",
        "        display: None;\n",
        "    }\n",
        "    .text_cell_render h5 {\n",
        "        font-weight: 300;\n",
        "        font-size: 22pt;\n",
        "        color: #4057A1;\n",
        "        font-style: italic;\n",
        "        margin-bottom: .5em;\n",
        "        margin-top: 0.5em;\n",
        "        display: block;\n",
        "    }\n",
        "    \n",
        "    .warning{\n",
        "        color: rgb( 240, 20, 20 )\n",
        "        }  \n",
        "</style>\n",
        "<script>\n",
        "    MathJax.Hub.Config({\n",
        "                        TeX: {\n",
        "                           extensions: [\"AMSmath.js\"]\n",
        "                           },\n",
        "                tex2jax: {\n",
        "                    inlineMath: [ ['$','$'], [\"\\\\(\",\"\\\\)\"] ],\n",
        "                    displayMath: [ ['$$','$$'], [\"\\\\[\",\"\\\\]\"] ]\n",
        "                },\n",
        "                displayAlign: 'center', // Change this to 'center' to center equations.\n",
        "                \"HTML-CSS\": {\n",
        "                    styles: {'.MathJax_Display': {\"margin\": 4}}\n",
        "                }\n",
        "        });\n",
        "</script>\n"
       ],
       "metadata": {},
       "output_type": "pyout",
       "prompt_number": 43,
       "text": [
        "<IPython.core.display.HTML at 0x3b88dd0>"
       ]
      }
     ],
     "prompt_number": 43
    }
   ],
   "metadata": {}
  }
 ]
}